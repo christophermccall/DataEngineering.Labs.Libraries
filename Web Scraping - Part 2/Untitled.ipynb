{
 "cells": [
  {
   "cell_type": "raw",
   "id": "1a8a242a-c50b-475d-83e5-6a6fa287bd8e",
   "metadata": {},
   "source": [
    "import bs4 \n",
    "from bs4 import BeautifulSoup\n",
    "import requests"
   ]
  },
  {
   "cell_type": "raw",
   "id": "789ab387-2593-4cbd-b628-c69849c07fe1",
   "metadata": {},
   "source": [
    "main_page = 'http://books.toscrape.com/catalogue/page-1.html'"
   ]
  },
  {
   "cell_type": "raw",
   "id": "a236dcc2-0e63-46d7-9e28-928c3bdf0c3f",
   "metadata": {},
   "source": [
    "page = requests.get(main_page).text"
   ]
  },
  {
   "cell_type": "raw",
   "id": "39387bee-d562-48dd-a38a-8f61b838b94b",
   "metadata": {},
   "source": [
    "page"
   ]
  },
  {
   "cell_type": "raw",
   "id": "7d244753-ca98-4bbc-929e-88d62eadbb9d",
   "metadata": {},
   "source": [
    "parsed = BeautifulSoup(page)\n",
    "parsed"
   ]
  },
  {
   "cell_type": "raw",
   "id": "a967ee18-5912-4257-afa8-8ceccab4abe5",
   "metadata": {},
   "source": [
    "def parse(url):\n",
    "    page = requests.get(url)\n",
    "    soup = BeautifulSoup(page.text, 'html.parser')\n",
    "    return soup\n",
    "parse(main_page)"
   ]
  },
  {
   "cell_type": "raw",
   "id": "6e83b3f4-fba3-4fe0-997d-94431c646aaa",
   "metadata": {},
   "source": [
    "soup = parse(main_page)"
   ]
  },
  {
   "cell_type": "raw",
   "id": "f5c30cf9-13f3-4fce-aade-a233087ef176",
   "metadata": {},
   "source": [
    "for link in soup.find_all('a'):\n",
    "    print(link.get('href'))"
   ]
  },
  {
   "cell_type": "raw",
   "id": "2915ddb6-03b4-4669-81fb-f94f40290cbb",
   "metadata": {},
   "source": [
    "sections = parse(main_page).find_all('h3')\n",
    "sections"
   ]
  },
  {
   "cell_type": "raw",
   "id": "6fd1c030-2e0e-40d8-86db-d56fddcdff15",
   "metadata": {},
   "source": [
    "sections[0]"
   ]
  },
  {
   "cell_type": "raw",
   "id": "e381fd94-0283-4a75-b437-04a9701df086",
   "metadata": {},
   "source": [
    "sections[0].a"
   ]
  },
  {
   "cell_type": "raw",
   "id": "d24ff920-b7bd-4f08-a076-585c5c0f2530",
   "metadata": {},
   "source": [
    "sections[0].a['title']"
   ]
  },
  {
   "cell_type": "raw",
   "id": "dc1e77ee-4617-423f-9254-bdd4bd230110",
   "metadata": {},
   "source": [
    "sections[0].a['href']"
   ]
  },
  {
   "cell_type": "raw",
   "id": "c23c7a11-b85c-4fa7-aa06-70cb04e6a9f4",
   "metadata": {},
   "source": [
    "links = [] \n",
    "page = \"http://books.toscrape.com/catalogue/page-1.html\"\n",
    "soup = parse(page)\n",
    "for section in soup.find_all('h3'):\n",
    "    links.append(section.a['href'])\n",
    "print(f'Looks like there are {len(set(links))} unique links on {page}.\\n\\n\\n')\n",
    "for link in links:\n",
    "    print(f'{link}\\n')"
   ]
  },
  {
   "cell_type": "raw",
   "id": "d7b14011-d123-4a8c-a3d3-000a427435d0",
   "metadata": {},
   "source": [
    "def link_puller(link,num_pages):\n",
    "    links = [] \n",
    "    for i in range(1,num_pages+1):\n",
    "        page = link.format(i)\n",
    "        soup = parse(page)\n",
    "        page_links = [section.a['href'] for section in soup.find_all('h3')]\n",
    "        links.extend(page_links)\n",
    "\n",
    "    print(f'Found {len(set(links))} unique links.')\n",
    "    return links\n"
   ]
  },
  {
   "cell_type": "raw",
   "id": "2122f42a-253b-493c-8b8d-b3822e2c9c06",
   "metadata": {},
   "source": [
    "links = link_puller(link='http://books.toscrape.com/catalogue/page-{}.html',num_pages=50)"
   ]
  },
  {
   "cell_type": "raw",
   "id": "a926300e-5e88-4eb1-b61d-d168b1ef24ee",
   "metadata": {},
   "source": [
    "import pickle\n",
    "with open('links.pkl', 'wb') as f:\n",
    "    pickle.dump(links, f)"
   ]
  },
  {
   "cell_type": "raw",
   "id": "361220ab-5262-406e-81c6-d754db80155a",
   "metadata": {},
   "source": [
    "with open('links.pkl', 'rb') as f:\n",
    "    links2 = pickle.load(f)"
   ]
  },
  {
   "cell_type": "raw",
   "id": "492be755-d928-4c0f-89af-26fc5ab78348",
   "metadata": {},
   "source": [
    "links2"
   ]
  },
  {
   "cell_type": "raw",
   "id": "12415e40-0cbf-4381-baf2-790ff92a7820",
   "metadata": {},
   "source": []
  }
 ],
 "metadata": {
  "kernelspec": {
   "display_name": "Python 3 (ipykernel)",
   "language": "python",
   "name": "python3"
  },
  "language_info": {
   "codemirror_mode": {
    "name": "ipython",
    "version": 3
   },
   "file_extension": ".py",
   "mimetype": "text/x-python",
   "name": "python",
   "nbconvert_exporter": "python",
   "pygments_lexer": "ipython3",
   "version": "3.12.2"
  }
 },
 "nbformat": 4,
 "nbformat_minor": 5
}
