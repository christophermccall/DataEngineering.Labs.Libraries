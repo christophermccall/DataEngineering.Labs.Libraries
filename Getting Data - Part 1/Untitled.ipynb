{
 "cells": [
  {
   "cell_type": "code",
   "execution_count": 1,
   "id": "b94f2b00-8e68-40be-b1f0-cd13cf624655",
   "metadata": {},
   "outputs": [],
   "source": [
    "import pandas as pd\n",
    "import requests\n",
    "import json\n",
    "import seaborn as sns\n",
    "import matplotlib.pyplot as plt \n",
    "%matplotlib inline"
   ]
  },
  {
   "cell_type": "code",
   "execution_count": 7,
   "id": "43a70f68-07a7-4d0b-a7c4-4620cf922a31",
   "metadata": {},
   "outputs": [],
   "source": [
    "my_key = '5ffe1b83bb27dae2eb5ec54bd6add76a'"
   ]
  },
  {
   "cell_type": "code",
   "execution_count": 8,
   "id": "db07e714-9e87-4fa9-a355-c7094cab2911",
   "metadata": {},
   "outputs": [],
   "source": [
    "unemployment_id = 'DEUR'"
   ]
  },
  {
   "cell_type": "code",
   "execution_count": 9,
   "id": "2261b4c5-a298-4a3a-9316-2daaf125fb2b",
   "metadata": {},
   "outputs": [],
   "source": [
    "base = 'https://api.stlouisfed.org/fred/series/observations?' "
   ]
  },
  {
   "cell_type": "code",
   "execution_count": 13,
   "id": "368e8c5d-a07e-4433-b142-da366a1dc9a1",
   "metadata": {},
   "outputs": [],
   "source": [
    "unemp_url = f'{base}series_id={unemployment_id}&api_key={my_key}&file_type=json' "
   ]
  },
  {
   "cell_type": "code",
   "execution_count": 14,
   "id": "0139e5e5-f60d-4134-833d-df38aaa6ecab",
   "metadata": {},
   "outputs": [
    {
     "data": {
      "text/plain": [
       "'https://api.stlouisfed.org/fred/series/observations?series_id=DEUR&api_key=5ffe1b83bb27dae2eb5ec54bd6add76a&file_type=json'"
      ]
     },
     "execution_count": 14,
     "metadata": {},
     "output_type": "execute_result"
    }
   ],
   "source": [
    "unemp_url"
   ]
  },
  {
   "cell_type": "code",
   "execution_count": 15,
   "id": "cca07810-d74a-45d1-b9a8-2a699a630af5",
   "metadata": {},
   "outputs": [],
   "source": [
    "response = requests.get(unemp_url)"
   ]
  },
  {
   "cell_type": "code",
   "execution_count": 16,
   "id": "f54fc904-637c-41fa-bdbc-04fa74a42a5c",
   "metadata": {},
   "outputs": [
    {
     "data": {
      "text/plain": [
       "200"
      ]
     },
     "execution_count": 16,
     "metadata": {},
     "output_type": "execute_result"
    }
   ],
   "source": [
    "response.status_code"
   ]
  },
  {
   "cell_type": "code",
   "execution_count": 17,
   "id": "e3b41390-3143-4f3b-8aa4-a413524da82c",
   "metadata": {},
   "outputs": [
    {
     "data": {
      "text/plain": [
       "b'{\"realtime_start\":\"2024-04-14\",\"realtime_end\":\"2024-04-14\",\"observation_start\":\"1600-01-01\",\"observation_end\":\"9999-12-31\",\"units\":\"lin\",\"output_type\":1,\"file_type\":\"json\",\"order_by\":\"observation_date\",\"sort_order\":\"asc\",\"count\":578,\"offset\":0,\"limit\":100000,\"observations\":[{\"realtime_start\":\"2024-04-14\",\"realtime_end\":\"2024-04-14\",\"date\":\"1976-01-01\",\"value\":\"8.0\"},{\"realtime_start\":\"2024-04-14\",\"realtime_end\":\"2024-04-14\",\"date\":\"1976-02-01\",\"value\":\"8.0\"},{\"realtime_start\":\"2024-04-14\",\"realtime_end\":\"2024-04-14\",\"date\":\"1976-03-01\",\"value\":\"8.0\"},{\"realtime_start\":\"2024-04-14\",\"realtime_end\":\"2024-04-14\",\"date\":\"1976-04-01\",\"value\":\"8.1\"},{\"realtime_start\":\"2024-04-14\",\"realtime_end\":\"2024-04-14\",\"date\":\"1976-05-01\",\"value\":\"8.3\"},{\"realtime_start\":\"2024-04-14\",\"realtime_end\":\"2024-04-14\",\"date\":\"1976-06-01\",\"value\":\"8.6\"},{\"realtime_start\":\"2024-04-14\",\"realtime_end\":\"2024-04-14\",\"date\":\"1976-07-01\",\"value\":\"8.8\"},{\"realtime_start\":\"2024-04-14\",\"realtime_end\":\"2024-04-14\",\"date\":\"1976-08-01\",\"value\":\"8.9\"},{\"realtime_start\":\"2024-04-14\",\"realtime_end\":\"2024-04-14\",\"date\":\"1976-09-01\",\"value\":\"9.0\"},{\"realtime_start\":\"2024-04-14\",\"realtime_end\":\"2024-04-14\",\"date\":\"1976-10-01\",\"value\":\"9.1\"},{\"realtime_start\":\"2024-04-14\",\"realtime_end\":\"2024-04-14\",\"date\":\"1976-11-01\",\"value\":\"9.2\"},{\"realtime_start\":\"2024-04-14\",\"realtime_end\":\"2024-04-14\",\"date\":\"1976-12-01\",\"value\":\"9.2\"},{\"realtime_start\":\"2024-04-14\",\"realtime_end\":\"2024-04-14\",\"date\":\"1977-01-01\",\"value\":\"9.2\"},{\"realtime_start\":\"2024-04-14\",\"realtime_end\":\"2024-04-14\",\"date\":\"1977-02-01\",\"value\":\"9.1\"},{\"realtime_start\":\"2024-04-14\",\"realtime_end\":\"2024-04-14\",\"date\":\"1977-03-01\",\"value\":\"8.9\"},{\"realtime_start\":\"2024-04-14\",\"realtime_end\":\"2024-04-14\",\"date\":\"1977-04-01\",\"value\":\"8.7\"},{\"realtime_start\":\"2024-04-14\",\"realtime_end\":\"2024-04-14\",\"date\":\"1977-05-01\",\"value\":\"8.4\"},{\"realtime_start\":\"2024-04-14\",\"realtime_end\":\"2024-04-14\",\"date\":\"1977-06-01\",\"value\":\"8.2\"},{\"realtime_start\":\"2024-04-14\",\"realtime_end\":\"2024-04-14\",\"date\":\"1977-07-01\",\"value\":\"8.0\"},{\"realtime_start\":\"2024-04-14\",\"realtime_end\":\"2024-04-14\",\"date\":\"1977-08-01\",\"value\":\"7.8\"},{\"realtime_start\":\"2024-04-14\",\"realtime_end\":\"2024-04-14\",\"date\":\"1977-09-01\",\"value\":\"7.7\"},{\"realtime_start\":\"2024-04-14\",\"realtime_end\":\"2024-04-14\",\"date\":\"1977-10-01\",\"value\":\"7.5\"},{\"realtime_start\":\"2024-04-14\",\"realtime_end\":\"2024-04-14\",\"date\":\"1977-11-01\",\"value\":\"7.4\"},{\"realtime_start\":\"2024-04-14\",\"realtime_end\":\"2024-04-14\",\"date\":\"1977-12-01\",\"value\":\"7.3\"},{\"realtime_start\":\"2024-04-14\",\"realtime_end\":\"2024-04-14\",\"date\":\"1978-01-01\",\"value\":\"7.2\"},{\"realtime_start\":\"2024-04-14\",\"realtime_end\":\"2024-04-14\",\"date\":\"1978-02-01\",\"value\":\"7.1\"},{\"realtime_start\":\"2024-04-14\",\"realtime_end\":\"2024-04-14\",\"date\":\"1978-03-01\",\"value\":\"7.1\"},{\"realtime_start\":\"2024-04-14\",\"realtime_end\":\"2024-04-14\",\"date\":\"1978-04-01\",\"value\":\"7.1\"},{\"realtime_start\":\"2024-04-14\",\"realtime_end\":\"2024-04-14\",\"date\":\"1978-05-01\",\"value\":\"7.1\"},{\"realtime_start\":\"2024-04-14\",\"realtime_end\":\"2024-04-14\",\"date\":\"1978-06-01\",\"value\":\"7.1\"},{\"realtime_start\":\"2024-04-14\",\"realtime_end\":\"2024-04-14\",\"date\":\"1978-07-01\",\"value\":\"7.1\"},{\"realtime_start\":\"2024-04-14\",\"realtime_end\":\"2024-04-14\",\"date\":\"1978-08-01\",\"value\":\"7.0\"},{\"realtime_start\":\"2024-04-14\",\"realtime_end\":\"2024-04-14\",\"date\":\"1978-09-01\",\"value\":\"7.0\"},{\"realtime_start\":\"2024-04-14\",\"realtime_end\":\"2024-04-14\",\"date\":\"1978-10-01\",\"value\":\"7.0\"},{\"realtime_start\":\"2024-04-14\",\"realtime_end\":\"2024-04-14\",\"date\":\"1978-11-01\",\"value\":\"7.0\"},{\"realtime_start\":\"2024-04-14\",\"realtime_end\":\"2024-04-14\",\"date\":\"1978-12-01\",\"value\":\"7.1\"},{\"realtime_start\":\"2024-04-14\",\"realtime_end\":\"2024-04-14\",\"date\":\"1979-01-01\",\"value\":\"7.1\"},{\"realtime_start\":\"2024-04-14\",\"realtime_end\":\"2024-04-14\",\"date\":\"1979-02-01\",\"value\":\"7.1\"},{\"realtime_start\":\"2024-04-14\",\"realtime_end\":\"2024-04-14\",\"date\":\"1979-03-01\",\"value\":\"7.1\"},{\"realtime_start\":\"2024-04-14\",\"realtime_end\":\"2024-04-14\",\"date\":\"1979-04-01\",\"value\":\"7.0\"},{\"realtime_start\":\"2024-04-14\",\"realtime_end\":\"2024-04-14\",\"date\":\"1979-05-01\",\"value\":\"7.0\"},{\"realtime_start\":\"2024-04-14\",\"realtime_end\":\"2024-04-14\",\"date\":\"1979-06-01\",\"value\":\"6.9\"},{\"realtime_start\":\"2024-04-14\",\"realtime_end\":\"2024-04-14\",\"date\":\"1979-07-01\",\"value\":\"6.9\"},{\"realtime_start\":\"2024-04-14\",\"realtime_end\":\"2024-04-14\",\"date\":\"1979-08-01\",\"value\":\"6.9\"},{\"realtime_start\":\"2024-04-14\",\"realtime_end\":\"2024-04-14\",\"date\":\"1979-09-01\",\"value\":\"6.9\"},{\"realtime_start\":\"2024-04-14\",\"realtime_end\":\"2024-04-14\",\"date\":\"1979-10-01\",\"value\":\"7.0\"},{\"realtime_start\":\"2024-04-14\",\"realtime_end\":\"2024-04-14\",\"date\":\"1979-11-01\",\"value\":\"6.9\"},{\"realtime_start\":\"2024-04-14\",\"realtime_end\":\"2024-04-14\",\"date\":\"1979-12-01\",\"value\":\"6.9\"},{\"realtime_start\":\"2024-04-14\",\"realtime_end\":\"2024-04-14\",\"date\":\"1980-01-01\",\"value\":\"6.8\"},{\"realtime_start\":\"2024-04-14\",\"realtime_end\":\"2024-04-14\",\"date\":\"1980-02-01\",\"value\":\"6.9\"},{\"realtime_start\":\"2024-04-14\",\"realtime_end\":\"2024-04-14\",\"date\":\"1980-03-01\",\"value\":\"7.0\"},{\"realtime_start\":\"2024-04-14\",\"realtime_end\":\"2024-04-14\",\"date\":\"1980-04-01\",\"value\":\"7.2\"},{\"realtime_start\":\"2024-04-14\",\"realtime_end\":\"2024-04-14\",\"date\":\"1980-05-01\",\"value\":\"7.500\"},{\"realtime_start\":\"2024-04-14\",\"realtime_end\":\"2024-04-14\",\"date\":\"1980-06-01\",\"value\":\"7.8\"},{\"realtime_start\":\"2024-04-14\",\"realtime_end\":\"2024-04-14\",\"date\":\"1980-07-01\",\"value\":\"7.900\"},{\"realtime_start\":\"2024-04-14\",\"realtime_end\":\"2024-04-14\",\"date\":\"1980-08-01\",\"value\":\"8.000\"},{\"realtime_start\":\"2024-04-14\",\"realtime_end\":\"2024-04-14\",\"date\":\"1980-09-01\",\"value\":\"7.9\"},{\"realtime_start\":\"2024-04-14\",\"realtime_end\":\"2024-04-14\",\"date\":\"1980-10-01\",\"value\":\"7.8\"},{\"realtime_start\":\"2024-04-14\",\"realtime_end\":\"2024-04-14\",\"date\":\"1980-11-01\",\"value\":\"7.7\"},{\"realtime_start\":\"2024-04-14\",\"realtime_end\":\"2024-04-14\",\"date\":\"1980-12-01\",\"value\":\"7.7\"},{\"realtime_start\":\"2024-04-14\",\"realtime_end\":\"2024-04-14\",\"date\":\"1981-01-01\",\"value\":\"7.7\"},{\"realtime_start\":\"2024-04-14\",\"realtime_end\":\"2024-04-14\",\"date\":\"1981-02-01\",\"value\":\"7.700\"},{\"realtime_start\":\"2024-04-14\",\"realtime_end\":\"2024-04-14\",\"date\":\"1981-03-01\",\"value\":\"7.700\"},{\"realtime_start\":\"2024-04-14\",\"realtime_end\":\"2024-04-14\",\"date\":\"1981-04-01\",\"value\":\"7.700\"},{\"realtime_start\":\"2024-04-14\",\"realtime_end\":\"2024-04-14\",\"date\":\"1981-05-01\",\"value\":\"7.600\"},{\"realtime_start\":\"2024-04-14\",\"realtime_end\":\"2024-04-14\",\"date\":\"1981-06-01\",\"value\":\"7.5\"},{\"realtime_start\":\"2024-04-14\",\"realtime_end\":\"2024-04-14\",\"date\":\"1981-07-01\",\"value\":\"7.5\"},{\"realtime_start\":\"2024-04-14\",\"realtime_end\":\"2024-04-14\",\"date\":\"1981-08-01\",\"value\":\"7.6\"},{\"realtime_start\":\"2024-04-14\",\"realtime_end\":\"2024-04-14\",\"date\":\"1981-09-01\",\"value\":\"7.8\"},{\"realtime_start\":\"2024-04-14\",\"realtime_end\":\"2024-04-14\",\"date\":\"1981-10-01\",\"value\":\"8.0\"},{\"realtime_start\":\"2024-04-14\",\"realtime_end\":\"2024-04-14\",\"date\":\"1981-11-01\",\"value\":\"8.2\"},{\"realtime_start\":\"2024-04-14\",\"realtime_end\":\"2024-04-14\",\"date\":\"1981-12-01\",\"value\":\"8.4\"},{\"realtime_start\":\"2024-04-14\",\"realtime_end\":\"2024-04-14\",\"date\":\"1982-01-01\",\"value\":\"8.5\"},{\"realtime_start\":\"2024-04-14\",\"realtime_end\":\"2024-04-14\",\"date\":\"1982-02-01\",\"value\":\"8.5\"},{\"realtime_start\":\"2024-04-14\",\"realtime_end\":\"2024-04-14\",\"date\":\"1982-03-01\",\"value\":\"8.5\"},{\"realtime_start\":\"2024-04-14\",\"realtime_end\":\"2024-04-14\",\"date\":\"1982-04-01\",\"value\":\"8.4\"},{\"realtime_start\":\"2024-04-14\",\"realtime_end\":\"2024-04-14\",\"date\":\"1982-05-01\",\"value\":\"8.3\"},{\"realtime_start\":\"2024-04-14\",\"realtime_end\":\"2024-04-14\",\"date\":\"1982-06-01\",\"value\":\"8.2\"},{\"realtime_start\":\"2024-04-14\",\"realtime_end\":\"2024-04-14\",\"date\":\"1982-07-01\",\"value\":\"8.2\"},{\"realtime_start\":\"2024-04-14\",\"realtime_end\":\"2024-04-14\",\"date\":\"1982-08-01\",\"value\":\"8.200\"},{\"realtime_start\":\"2024-04-14\",\"realtime_end\":\"2024-04-14\",\"date\":\"1982-09-01\",\"value\":\"8.3\"},{\"realtime_start\":\"2024-04-14\",\"realtime_end\":\"2024-04-14\",\"date\":\"1982-10-01\",\"value\":\"8.4\"},{\"realtime_start\":\"2024-04-14\",\"realtime_end\":\"2024-04-14\",\"date\":\"1982-11-01\",\"value\":\"8.4\"},{\"realtime_start\":\"2024-04-14\",\"realtime_end\":\"2024-04-14\",\"date\":\"1982-12-01\",\"value\":\"8.4\"},{\"realtime_start\":\"2024-04-14\",\"realtime_end\":\"2024-04-14\",\"date\":\"1983-01-01\",\"value\":\"8.4\"},{\"realtime_start\":\"2024-04-14\",\"realtime_end\":\"2024-04-14\",\"date\":\"1983-02-01\",\"value\":\"8.4\"},{\"realtime_start\":\"2024-04-14\",\"realtime_end\":\"2024-04-14\",\"date\":\"1983-03-01\",\"value\":\"8.4\"},{\"realtime_start\":\"2024-04-14\",\"realtime_end\":\"2024-04-14\",\"date\":\"1983-04-01\",\"value\":\"8.3\"},{\"realtime_start\":\"2024-04-14\",\"realtime_end\":\"2024-04-14\",\"date\":\"1983-05-01\",\"value\":\"8.2\"},{\"realtime_start\":\"2024-04-14\",\"realtime_end\":\"2024-04-14\",\"date\":\"1983-06-01\",\"value\":\"8.1\"},{\"realtime_start\":\"2024-04-14\",\"realtime_end\":\"2024-04-14\",\"date\":\"1983-07-01\",\"value\":\"7.9\"},{\"realtime_start\":\"2024-04-14\",\"realtime_end\":\"2024-04-14\",\"date\":\"1983-08-01\",\"value\":\"7.8\"},{\"realtime_start\":\"2024-04-14\",\"realtime_end\":\"2024-04-14\",\"date\":\"1983-09-01\",\"value\":\"7.600\"},{\"realtime_start\":\"2024-04-14\",\"realtime_end\":\"2024-04-14\",\"date\":\"1983-10-01\",\"value\":\"7.5\"},{\"realtime_start\":\"2024-04-14\",\"realtime_end\":\"2024-04-14\",\"date\":\"1983-11-01\",\"value\":\"7.200\"},{\"realtime_start\":\"2024-04-14\",\"realtime_end\":\"2024-04-14\",\"date\":\"1983-12-01\",\"value\":\"7.000\"},{\"realtime_start\":\"2024-04-14\",\"realtime_end\":\"2024-04-14\",\"date\":\"1984-01-01\",\"value\":\"6.700\"},{\"realtime_start\":\"2024-04-14\",\"realtime_end\":\"2024-04-14\",\"date\":\"1984-02-01\",\"value\":\"6.4\"},{\"realtime_start\":\"2024-04-14\",\"realtime_end\":\"2024-04-14\",\"date\":\"1984-03-01\",\"value\":\"6.3\"},{\"realtime_start\":\"2024-04-14\",\"realtime_end\":\"2024-04-14\",\"date\":\"1984-04-01\",\"value\":\"6.2\"},{\"realtime_start\":\"2024-04-14\",\"realtime_end\":\"2024-04-14\",\"date\":\"1984-05-01\",\"value\":\"6.2\"},{\"realtime_start\":\"2024-04-14\",\"realtime_end\":\"2024-04-14\",\"date\":\"1984-06-01\",\"value\":\"6.2\"},{\"realtime_start\":\"2024-04-14\",\"realtime_end\":\"2024-04-14\",\"date\":\"1984-07-01\",\"value\":\"6.2\"},{\"realtime_start\":\"2024-04-14\",\"realtime_end\":\"2024-04-14\",\"date\":\"1984-08-01\",\"value\":\"6.2\"},{\"realtime_start\":\"2024-04-14\",\"realtime_end\":\"2024-04-14\",\"date\":\"1984-09-01\",\"value\":\"6.2\"},{\"realtime_start\":\"2024-04-14\",\"realtime_end\":\"2024-04-14\",\"date\":\"1984-10-01\",\"value\":\"6.1\"},{\"realtime_start\":\"2024-04-14\",\"realtime_end\":\"2024-04-14\",\"date\":\"1984-11-01\",\"value\":\"6.0\"},{\"realtime_start\":\"2024-04-14\",\"realtime_end\":\"2024-04-14\",\"date\":\"1984-12-01\",\"value\":\"5.9\"},{\"realtime_start\":\"2024-04-14\",\"realtime_end\":\"2024-04-14\",\"date\":\"1985-01-01\",\"value\":\"5.8\"},{\"realtime_start\":\"2024-04-14\",\"realtime_end\":\"2024-04-14\",\"date\":\"1985-02-01\",\"value\":\"5.800\"},{\"realtime_start\":\"2024-04-14\",\"realtime_end\":\"2024-04-14\",\"date\":\"1985-03-01\",\"value\":\"5.7\"},{\"realtime_start\":\"2024-04-14\",\"realtime_end\":\"2024-04-14\",\"date\":\"1985-04-01\",\"value\":\"5.500\"},{\"realtime_start\":\"2024-04-14\",\"realtime_end\":\"2024-04-14\",\"date\":\"1985-05-01\",\"value\":\"5.4\"},{\"realtime_start\":\"2024-04-14\",\"realtime_end\":\"2024-04-14\",\"date\":\"1985-06-01\",\"value\":\"5.200\"},{\"realtime_start\":\"2024-04-14\",\"realtime_end\":\"2024-04-14\",\"date\":\"1985-07-01\",\"value\":\"5.1\"},{\"realtime_start\":\"2024-04-14\",\"realtime_end\":\"2024-04-14\",\"date\":\"1985-08-01\",\"value\":\"4.900\"},{\"realtime_start\":\"2024-04-14\",\"realtime_end\":\"2024-04-14\",\"date\":\"1985-09-01\",\"value\":\"4.8\"},{\"realtime_start\":\"2024-04-14\",\"realtime_end\":\"2024-04-14\",\"date\":\"1985-10-01\",\"value\":\"4.600\"},{\"realtime_start\":\"2024-04-14\",\"realtime_end\":\"2024-04-14\",\"date\":\"1985-11-01\",\"value\":\"4.5\"},{\"realtime_start\":\"2024-04-14\",\"realtime_end\":\"2024-04-14\",\"date\":\"1985-12-01\",\"value\":\"4.5\"},{\"realtime_start\":\"2024-04-14\",\"realtime_end\":\"2024-04-14\",\"date\":\"1986-01-01\",\"value\":\"4.5\"},{\"realtime_start\":\"2024-04-14\",\"realtime_end\":\"2024-04-14\",\"date\":\"1986-02-01\",\"value\":\"4.6\"},{\"realtime_start\":\"2024-04-14\",\"realtime_end\":\"2024-04-14\",\"date\":\"1986-03-01\",\"value\":\"4.7\"},{\"realtime_start\":\"2024-04-14\",\"realtime_end\":\"2024-04-14\",\"date\":\"1986-04-01\",\"value\":\"4.7\"},{\"realtime_start\":\"2024-04-14\",\"realtime_end\":\"2024-04-14\",\"date\":\"1986-05-01\",\"value\":\"4.7\"},{\"realtime_start\":\"2024-04-14\",\"realtime_end\":\"2024-04-14\",\"date\":\"1986-06-01\",\"value\":\"4.5\"},{\"realtime_start\":\"2024-04-14\",\"realtime_end\":\"2024-04-14\",\"date\":\"1986-07-01\",\"value\":\"4.3\"},{\"realtime_start\":\"2024-04-14\",\"realtime_end\":\"2024-04-14\",\"date\":\"1986-08-01\",\"value\":\"4.0\"},{\"realtime_start\":\"2024-04-14\",\"realtime_end\":\"2024-04-14\",\"date\":\"1986-09-01\",\"value\":\"3.8\"},{\"realtime_start\":\"2024-04-14\",\"realtime_end\":\"2024-04-14\",\"date\":\"1986-10-01\",\"value\":\"3.6\"},{\"realtime_start\":\"2024-04-14\",\"realtime_end\":\"2024-04-14\",\"date\":\"1986-11-01\",\"value\":\"3.4\"},{\"realtime_start\":\"2024-04-14\",\"realtime_end\":\"2024-04-14\",\"date\":\"1986-12-01\",\"value\":\"3.300\"},{\"realtime_start\":\"2024-04-14\",\"realtime_end\":\"2024-04-14\",\"date\":\"1987-01-01\",\"value\":\"3.200\"},{\"realtime_start\":\"2024-04-14\",\"realtime_end\":\"2024-04-14\",\"date\":\"1987-02-01\",\"value\":\"3.200\"},{\"realtime_start\":\"2024-04-14\",\"realtime_end\":\"2024-04-14\",\"date\":\"1987-03-01\",\"value\":\"3.100\"},{\"realtime_start\":\"2024-04-14\",\"realtime_end\":\"2024-04-14\",\"date\":\"1987-04-01\",\"value\":\"3.100\"},{\"realtime_start\":\"2024-04-14\",\"realtime_end\":\"2024-04-14\",\"date\":\"1987-05-01\",\"value\":\"3.0\"},{\"realtime_start\":\"2024-04-14\",\"realtime_end\":\"2024-04-14\",\"date\":\"1987-06-01\",\"value\":\"3.000\"},{\"realtime_start\":\"2024-04-14\",\"realtime_end\":\"2024-04-14\",\"date\":\"1987-07-01\",\"value\":\"2.9\"},{\"realtime_start\":\"2024-04-14\",\"realtime_end\":\"2024-04-14\",\"date\":\"1987-08-01\",\"value\":\"2.9\"},{\"realtime_start\":\"2024-04-14\",\"realtime_end\":\"2024-04-14\",\"date\":\"1987-09-01\",\"value\":\"2.9\"},{\"realtime_start\":\"2024-04-14\",\"realtime_end\":\"2024-04-14\",\"date\":\"1987-10-01\",\"value\":\"3.0\"},{\"realtime_start\":\"2024-04-14\",\"realtime_end\":\"2024-04-14\",\"date\":\"1987-11-01\",\"value\":\"3.0\"},{\"realtime_start\":\"2024-04-14\",\"realtime_end\":\"2024-04-14\",\"date\":\"1987-12-01\",\"value\":\"3.1\"},{\"realtime_start\":\"2024-04-14\",\"realtime_end\":\"2024-04-14\",\"date\":\"1988-01-01\",\"value\":\"3.1\"},{\"realtime_start\":\"2024-04-14\",\"realtime_end\":\"2024-04-14\",\"date\":\"1988-02-01\",\"value\":\"3.0\"},{\"realtime_start\":\"2024-04-14\",\"realtime_end\":\"2024-04-14\",\"date\":\"1988-03-01\",\"value\":\"2.9\"},{\"realtime_start\":\"2024-04-14\",\"realtime_end\":\"2024-04-14\",\"date\":\"1988-04-01\",\"value\":\"2.9\"},{\"realtime_start\":\"2024-04-14\",\"realtime_end\":\"2024-04-14\",\"date\":\"1988-05-01\",\"value\":\"2.8\"},{\"realtime_start\":\"2024-04-14\",\"realtime_end\":\"2024-04-14\",\"date\":\"1988-06-01\",\"value\":\"2.9\"},{\"realtime_start\":\"2024-04-14\",\"realtime_end\":\"2024-04-14\",\"date\":\"1988-07-01\",\"value\":\"2.9\"},{\"realtime_start\":\"2024-04-14\",\"realtime_end\":\"2024-04-14\",\"date\":\"1988-08-01\",\"value\":\"3.0\"},{\"realtime_start\":\"2024-04-14\",\"realtime_end\":\"2024-04-14\",\"date\":\"1988-09-01\",\"value\":\"3.1\"},{\"realtime_start\":\"2024-04-14\",\"realtime_end\":\"2024-04-14\",\"date\":\"1988-10-01\",\"value\":\"3.1\"},{\"realtime_start\":\"2024-04-14\",\"realtime_end\":\"2024-04-14\",\"date\":\"1988-11-01\",\"value\":\"3.1\"},{\"realtime_start\":\"2024-04-14\",\"realtime_end\":\"2024-04-14\",\"date\":\"1988-12-01\",\"value\":\"3.0\"},{\"realtime_start\":\"2024-04-14\",\"realtime_end\":\"2024-04-14\",\"date\":\"1989-01-01\",\"value\":\"3.0\"},{\"realtime_start\":\"2024-04-14\",\"realtime_end\":\"2024-04-14\",\"date\":\"1989-02-01\",\"value\":\"3.0\"},{\"realtime_start\":\"2024-04-14\",\"realtime_end\":\"2024-04-14\",\"date\":\"1989-03-01\",\"value\":\"3.0\"},{\"realtime_start\":\"2024-04-14\",\"realtime_end\":\"2024-04-14\",\"date\":\"1989-04-01\",\"value\":\"3.1\"},{\"realtime_start\":\"2024-04-14\",\"realtime_end\":\"2024-04-14\",\"date\":\"1989-05-01\",\"value\":\"3.2\"},{\"realtime_start\":\"2024-04-14\",\"realtime_end\":\"2024-04-14\",\"date\":\"1989-06-01\",\"value\":\"3.4\"},{\"realtime_start\":\"2024-04-14\",\"realtime_end\":\"2024-04-14\",\"date\":\"1989-07-01\",\"value\":\"3.5\"},{\"realtime_start\":\"2024-04-14\",\"realtime_end\":\"2024-04-14\",\"date\":\"1989-08-01\",\"value\":\"3.5\"},{\"realtime_start\":\"2024-04-14\",\"realtime_end\":\"2024-04-14\",\"date\":\"1989-09-01\",\"value\":\"3.5\"},{\"realtime_start\":\"2024-04-14\",\"realtime_end\":\"2024-04-14\",\"date\":\"1989-10-01\",\"value\":\"3.5\"},{\"realtime_start\":\"2024-04-14\",\"realtime_end\":\"2024-04-14\",\"date\":\"1989-11-01\",\"value\":\"3.5\"},{\"realtime_start\":\"2024-04-14\",\"realtime_end\":\"2024-04-14\",\"date\":\"1989-12-01\",\"value\":\"3.5\"},{\"realtime_start\":\"2024-04-14\",\"realtime_end\":\"2024-04-14\",\"date\":\"1990-01-01\",\"value\":\"3.5\"},{\"realtime_start\":\"2024-04-14\",\"realtime_end\":\"2024-04-14\",\"date\":\"1990-02-01\",\"value\":\"3.5\"},{\"realtime_start\":\"2024-04-14\",\"realtime_end\":\"2024-04-14\",\"date\":\"1990-03-01\",\"value\":\"3.5\"},{\"realtime_start\":\"2024-04-14\",\"realtime_end\":\"2024-04-14\",\"date\":\"1990-04-01\",\"value\":\"3.5\"},{\"realtime_start\":\"2024-04-14\",\"realtime_end\":\"2024-04-14\",\"date\":\"1990-05-01\",\"value\":\"3.5\"},{\"realtime_start\":\"2024-04-14\",\"realtime_end\":\"2024-04-14\",\"date\":\"1990-06-01\",\"value\":\"3.6\"},{\"realtime_start\":\"2024-04-14\",\"realtime_end\":\"2024-04-14\",\"date\":\"1990-07-01\",\"value\":\"3.7\"},{\"realtime_start\":\"2024-04-14\",\"realtime_end\":\"2024-04-14\",\"date\":\"1990-08-01\",\"value\":\"3.9\"},{\"realtime_start\":\"2024-04-14\",\"realtime_end\":\"2024-04-14\",\"date\":\"1990-09-01\",\"value\":\"5.5\"},{\"realtime_start\":\"2024-04-14\",\"realtime_end\":\"2024-04-14\",\"date\":\"1990-10-01\",\"value\":\"6.0\"},{\"realtime_start\":\"2024-04-14\",\"realtime_end\":\"2024-04-14\",\"date\":\"1990-11-01\",\"value\":\"6.3\"},{\"realtime_start\":\"2024-04-14\",\"realtime_end\":\"2024-04-14\",\"date\":\"1990-12-01\",\"value\":\"6.4\"},{\"realtime_start\":\"2024-04-14\",\"realtime_end\":\"2024-04-14\",\"date\":\"1991-01-01\",\"value\":\"6.5\"},{\"realtime_start\":\"2024-04-14\",\"realtime_end\":\"2024-04-14\",\"date\":\"1991-02-01\",\"value\":\"6.5\"},{\"realtime_start\":\"2024-04-14\",\"realtime_end\":\"2024-04-14\",\"date\":\"1991-03-01\",\"value\":\"6.4\"},{\"realtime_start\":\"2024-04-14\",\"realtime_end\":\"2024-04-14\",\"date\":\"1991-04-01\",\"value\":\"6.3\"},{\"realtime_start\":\"2024-04-14\",\"realtime_end\":\"2024-04-14\",\"date\":\"1991-05-01\",\"value\":\"6.1\"},{\"realtime_start\":\"2024-04-14\",\"realtime_end\":\"2024-04-14\",\"date\":\"1991-06-01\",\"value\":\"5.9\"},{\"realtime_start\":\"2024-04-14\",\"realtime_end\":\"2024-04-14\",\"date\":\"1991-07-01\",\"value\":\"5.8\"},{\"realtime_start\":\"2024-04-14\",\"realtime_end\":\"2024-04-14\",\"date\":\"1991-08-01\",\"value\":\"5.6\"},{\"realtime_start\":\"2024-04-14\",\"realtime_end\":\"2024-04-14\",\"date\":\"1991-09-01\",\"value\":\"5.5\"},{\"realtime_start\":\"2024-04-14\",\"realtime_end\":\"2024-04-14\",\"date\":\"1991-10-01\",\"value\":\"5.5\"},{\"realtime_start\":\"2024-04-14\",\"realtime_end\":\"2024-04-14\",\"date\":\"1991-11-01\",\"value\":\"5.5\"},{\"realtime_start\":\"2024-04-14\",\"realtime_end\":\"2024-04-14\",\"date\":\"1991-12-01\",\"value\":\"5.4\"},{\"realtime_start\":\"2024-04-14\",\"realtime_end\":\"2024-04-14\",\"date\":\"1992-01-01\",\"value\":\"5.4\"},{\"realtime_start\":\"2024-04-14\",\"realtime_end\":\"2024-04-14\",\"date\":\"1992-02-01\",\"value\":\"5.4\"},{\"realtime_start\":\"2024-04-14\",\"realtime_end\":\"2024-04-14\",\"date\":\"1992-03-01\",\"value\":\"5.4\"},{\"realtime_start\":\"2024-04-14\",\"realtime_end\":\"2024-04-14\",\"date\":\"1992-04-01\",\"value\":\"5.4\"},{\"realtime_start\":\"2024-04-14\",\"realtime_end\":\"2024-04-14\",\"date\":\"1992-05-01\",\"value\":\"5.4\"},{\"realtime_start\":\"2024-04-14\",\"realtime_end\":\"2024-04-14\",\"date\":\"1992-06-01\",\"value\":\"5.3\"},{\"realtime_start\":\"2024-04-14\",\"realtime_end\":\"2024-04-14\",\"date\":\"1992-07-01\",\"value\":\"5.3\"},{\"realtime_start\":\"2024-04-14\",\"realtime_end\":\"2024-04-14\",\"date\":\"1992-08-01\",\"value\":\"5.2\"},{\"realtime_start\":\"2024-04-14\",\"realtime_end\":\"2024-04-14\",\"date\":\"1992-09-01\",\"value\":\"5.2\"},{\"realtime_start\":\"2024-04-14\",\"realtime_end\":\"2024-04-14\",\"date\":\"1992-10-01\",\"value\":\"5.0\"},{\"realtime_start\":\"2024-04-14\",\"realtime_end\":\"2024-04-14\",\"date\":\"1992-11-01\",\"value\":\"4.9\"},{\"realtime_start\":\"2024-04-14\",\"realtime_end\":\"2024-04-14\",\"date\":\"1992-12-01\",\"value\":\"4.8\"},{\"realtime_start\":\"2024-04-14\",\"realtime_end\":\"2024-04-14\",\"date\":\"1993-01-01\",\"value\":\"4.800\"},{\"realtime_start\":\"2024-04-14\",\"realtime_end\":\"2024-04-14\",\"date\":\"1993-02-01\",\"value\":\"4.7\"},{\"realtime_start\":\"2024-04-14\",\"realtime_end\":\"2024-04-14\",\"date\":\"1993-03-01\",\"value\":\"4.7\"},{\"realtime_start\":\"2024-04-14\",\"realtime_end\":\"2024-04-14\",\"date\":\"1993-04-01\",\"value\":\"4.7\"},{\"realtime_start\":\"2024-04-14\",\"realtime_end\":\"2024-04-14\",\"date\":\"1993-05-01\",\"value\":\"4.8\"},{\"realtime_start\":\"2024-04-14\",\"realtime_end\":\"2024-04-14\",\"date\":\"1993-06-01\",\"value\":\"4.9\"},{\"realtime_start\":\"2024-04-14\",\"realtime_end\":\"2024-04-14\",\"date\":\"1993-07-01\",\"value\":\"4.9\"},{\"realtime_start\":\"2024-04-14\",\"realtime_end\":\"2024-04-14\",\"date\":\"1993-08-01\",\"value\":\"5.0\"},{\"realtime_start\":\"2024-04-14\",\"realtime_end\":\"2024-04-14\",\"date\":\"1993-09-01\",\"value\":\"5.0\"},{\"realtime_start\":\"2024-04-14\",\"realtime_end\":\"2024-04-14\",\"date\":\"1993-10-01\",\"value\":\"5.1\"},{\"realtime_start\":\"2024-04-14\",\"realtime_end\":\"2024-04-14\",\"date\":\"1993-11-01\",\"value\":\"5.1\"},{\"realtime_start\":\"2024-04-14\",\"realtime_end\":\"2024-04-14\",\"date\":\"1993-12-01\",\"value\":\"5.2\"},{\"realtime_start\":\"2024-04-14\",\"realtime_end\":\"2024-04-14\",\"date\":\"1994-01-01\",\"value\":\"5.2\"},{\"realtime_start\":\"2024-04-14\",\"realtime_end\":\"2024-04-14\",\"date\":\"1994-02-01\",\"value\":\"5.2\"},{\"realtime_start\":\"2024-04-14\",\"realtime_end\":\"2024-04-14\",\"date\":\"1994-03-01\",\"value\":\"5.2\"},{\"realtime_start\":\"2024-04-14\",\"realtime_end\":\"2024-04-14\",\"date\":\"1994-04-01\",\"value\":\"5.1\"},{\"realtime_start\":\"2024-04-14\",\"realtime_end\":\"2024-04-14\",\"date\":\"1994-05-01\",\"value\":\"5.0\"},{\"realtime_start\":\"2024-04-14\",\"realtime_end\":\"2024-04-14\",\"date\":\"1994-06-01\",\"value\":\"4.8\"},{\"realtime_start\":\"2024-04-14\",\"realtime_end\":\"2024-04-14\",\"date\":\"1994-07-01\",\"value\":\"4.700\"},{\"realtime_start\":\"2024-04-14\",\"realtime_end\":\"2024-04-14\",\"date\":\"1994-08-01\",\"value\":\"4.5\"},{\"realtime_start\":\"2024-04-14\",\"realtime_end\":\"2024-04-14\",\"date\":\"1994-09-01\",\"value\":\"4.400\"},{\"realtime_start\":\"2024-04-14\",\"realtime_end\":\"2024-04-14\",\"date\":\"1994-10-01\",\"value\":\"4.2\"},{\"realtime_start\":\"2024-04-14\",\"realtime_end\":\"2024-04-14\",\"date\":\"1994-11-01\",\"value\":\"4.100\"},{\"realtime_start\":\"2024-04-14\",\"realtime_end\":\"2024-04-14\",\"date\":\"1994-12-01\",\"value\":\"4.000\"},{\"realtime_start\":\"2024-04-14\",\"realtime_end\":\"2024-04-14\",\"date\":\"1995-01-01\",\"value\":\"4.000\"},{\"realtime_start\":\"2024-04-14\",\"realtime_end\":\"2024-04-14\",\"date\":\"1995-02-01\",\"value\":\"4.000\"},{\"realtime_start\":\"2024-04-14\",\"realtime_end\":\"2024-04-14\",\"date\":\"1995-03-01\",\"value\":\"4.000\"},{\"realtime_start\":\"2024-04-14\",\"realtime_end\":\"2024-04-14\",\"date\":\"1995-04-01\",\"value\":\"4.100\"},{\"realtime_start\":\"2024-04-14\",\"realtime_end\":\"2024-04-14\",\"date\":\"1995-05-01\",\"value\":\"4.200\"},{\"realtime_start\":\"2024-04-14\",\"realtime_end\":\"2024-04-14\",\"date\":\"1995-06-01\",\"value\":\"4.2\"},{\"realtime_start\":\"2024-04-14\",\"realtime_end\":\"2024-04-14\",\"date\":\"1995-07-01\",\"value\":\"4.300\"},{\"realtime_start\":\"2024-04-14\",\"realtime_end\":\"2024-04-14\",\"date\":\"1995-08-01\",\"value\":\"4.3\"},{\"realtime_start\":\"2024-04-14\",\"realtime_end\":\"2024-04-14\",\"date\":\"1995-09-01\",\"value\":\"4.400\"},{\"realtime_start\":\"2024-04-14\",\"realtime_end\":\"2024-04-14\",\"date\":\"1995-10-01\",\"value\":\"4.4\"},{\"realtime_start\":\"2024-04-14\",\"realtime_end\":\"2024-04-14\",\"date\":\"1995-11-01\",\"value\":\"4.6\"},{\"realtime_start\":\"2024-04-14\",\"realtime_end\":\"2024-04-14\",\"date\":\"1995-12-01\",\"value\":\"4.7\"},{\"realtime_start\":\"2024-04-14\",\"realtime_end\":\"2024-04-14\",\"date\":\"1996-01-01\",\"value\":\"4.9\"},{\"realtime_start\":\"2024-04-14\",\"realtime_end\":\"2024-04-14\",\"date\":\"1996-02-01\",\"value\":\"4.9\"},{\"realtime_start\":\"2024-04-14\",\"realtime_end\":\"2024-04-14\",\"date\":\"1996-03-01\",\"value\":\"4.9\"},{\"realtime_start\":\"2024-04-14\",\"realtime_end\":\"2024-04-14\",\"date\":\"1996-04-01\",\"value\":\"4.9\"},{\"realtime_start\":\"2024-04-14\",\"realtime_end\":\"2024-04-14\",\"date\":\"1996-05-01\",\"value\":\"4.8\"},{\"realtime_start\":\"2024-04-14\",\"realtime_end\":\"2024-04-14\",\"date\":\"1996-06-01\",\"value\":\"4.8\"},{\"realtime_start\":\"2024-04-14\",\"realtime_end\":\"2024-04-14\",\"date\":\"1996-07-01\",\"value\":\"4.9\"},{\"realtime_start\":\"2024-04-14\",\"realtime_end\":\"2024-04-14\",\"date\":\"1996-08-01\",\"value\":\"5.0\"},{\"realtime_start\":\"2024-04-14\",\"realtime_end\":\"2024-04-14\",\"date\":\"1996-09-01\",\"value\":\"5.1\"},{\"realtime_start\":\"2024-04-14\",\"realtime_end\":\"2024-04-14\",\"date\":\"1996-10-01\",\"value\":\"5.1\"},{\"realtime_start\":\"2024-04-14\",\"realtime_end\":\"2024-04-14\",\"date\":\"1996-11-01\",\"value\":\"5.1\"},{\"realtime_start\":\"2024-04-14\",\"realtime_end\":\"2024-04-14\",\"date\":\"1996-12-01\",\"value\":\"5.000\"},{\"realtime_start\":\"2024-04-14\",\"realtime_end\":\"2024-04-14\",\"date\":\"1997-01-01\",\"value\":\"4.9\"},{\"realtime_start\":\"2024-04-14\",\"realtime_end\":\"2024-04-14\",\"date\":\"1997-02-01\",\"value\":\"4.8\"},{\"realtime_start\":\"2024-04-14\",\"realtime_end\":\"2024-04-14\",\"date\":\"1997-03-01\",\"value\":\"4.7\"},{\"realtime_start\":\"2024-04-14\",\"realtime_end\":\"2024-04-14\",\"date\":\"1997-04-01\",\"value\":\"4.4\"},{\"realtime_start\":\"2024-04-14\",\"realtime_end\":\"2024-04-14\",\"date\":\"1997-05-01\",\"value\":\"4.2\"},{\"realtime_start\":\"2024-04-14\",\"realtime_end\":\"2024-04-14\",\"date\":\"1997-06-01\",\"value\":\"4.1\"},{\"realtime_start\":\"2024-04-14\",\"realtime_end\":\"2024-04-14\",\"date\":\"1997-07-01\",\"value\":\"3.900\"},{\"realtime_start\":\"2024-04-14\",\"realtime_end\":\"2024-04-14\",\"date\":\"1997-08-01\",\"value\":\"3.7\"},{\"realtime_start\":\"2024-04-14\",\"realtime_end\":\"2024-04-14\",\"date\":\"1997-09-01\",\"value\":\"3.5\"},{\"realtime_start\":\"2024-04-14\",\"realtime_end\":\"2024-04-14\",\"date\":\"1997-10-01\",\"value\":\"3.4\"},{\"realtime_start\":\"2024-04-14\",\"realtime_end\":\"2024-04-14\",\"date\":\"1997-11-01\",\"value\":\"3.2\"},{\"realtime_start\":\"2024-04-14\",\"realtime_end\":\"2024-04-14\",\"date\":\"1997-12-01\",\"value\":\"3.3\"},{\"realtime_start\":\"2024-04-14\",\"realtime_end\":\"2024-04-14\",\"date\":\"1998-01-01\",\"value\":\"3.4\"},{\"realtime_start\":\"2024-04-14\",\"realtime_end\":\"2024-04-14\",\"date\":\"1998-02-01\",\"value\":\"3.5\"},{\"realtime_start\":\"2024-04-14\",\"realtime_end\":\"2024-04-14\",\"date\":\"1998-03-01\",\"value\":\"3.6\"},{\"realtime_start\":\"2024-04-14\",\"realtime_end\":\"2024-04-14\",\"date\":\"1998-04-01\",\"value\":\"3.6\"},{\"realtime_start\":\"2024-04-14\",\"realtime_end\":\"2024-04-14\",\"date\":\"1998-05-01\",\"value\":\"3.6\"},{\"realtime_start\":\"2024-04-14\",\"realtime_end\":\"2024-04-14\",\"date\":\"1998-06-01\",\"value\":\"3.6\"},{\"realtime_start\":\"2024-04-14\",\"realtime_end\":\"2024-04-14\",\"date\":\"1998-07-01\",\"value\":\"3.6\"},{\"realtime_start\":\"2024-04-14\",\"realtime_end\":\"2024-04-14\",\"date\":\"1998-08-01\",\"value\":\"3.6\"},{\"realtime_start\":\"2024-04-14\",\"realtime_end\":\"2024-04-14\",\"date\":\"1998-09-01\",\"value\":\"3.5\"},{\"realtime_start\":\"2024-04-14\",\"realtime_end\":\"2024-04-14\",\"date\":\"1998-10-01\",\"value\":\"3.4\"},{\"realtime_start\":\"2024-04-14\",\"realtime_end\":\"2024-04-14\",\"date\":\"1998-11-01\",\"value\":\"3.3\"},{\"realtime_start\":\"2024-04-14\",\"realtime_end\":\"2024-04-14\",\"date\":\"1998-12-01\",\"value\":\"3.2\"},{\"realtime_start\":\"2024-04-14\",\"realtime_end\":\"2024-04-14\",\"date\":\"1999-01-01\",\"value\":\"3.2\"},{\"realtime_start\":\"2024-04-14\",\"realtime_end\":\"2024-04-14\",\"date\":\"1999-02-01\",\"value\":\"3.2\"},{\"realtime_start\":\"2024-04-14\",\"realtime_end\":\"2024-04-14\",\"date\":\"1999-03-01\",\"value\":\"3.2\"},{\"realtime_start\":\"2024-04-14\",\"realtime_end\":\"2024-04-14\",\"date\":\"1999-04-01\",\"value\":\"3.2\"},{\"realtime_start\":\"2024-04-14\",\"realtime_end\":\"2024-04-14\",\"date\":\"1999-05-01\",\"value\":\"3.3\"},{\"realtime_start\":\"2024-04-14\",\"realtime_end\":\"2024-04-14\",\"date\":\"1999-06-01\",\"value\":\"3.3\"},{\"realtime_start\":\"2024-04-14\",\"realtime_end\":\"2024-04-14\",\"date\":\"1999-07-01\",\"value\":\"3.3\"},{\"realtime_start\":\"2024-04-14\",\"realtime_end\":\"2024-04-14\",\"date\":\"1999-08-01\",\"value\":\"3.3\"},{\"realtime_start\":\"2024-04-14\",\"realtime_end\":\"2024-04-14\",\"date\":\"1999-09-01\",\"value\":\"3.3\"},{\"realtime_start\":\"2024-04-14\",\"realtime_end\":\"2024-04-14\",\"date\":\"1999-10-01\",\"value\":\"3.3\"},{\"realtime_start\":\"2024-04-14\",\"realtime_end\":\"2024-04-14\",\"date\":\"1999-11-01\",\"value\":\"3.4\"},{\"realtime_start\":\"2024-04-14\",\"realtime_end\":\"2024-04-14\",\"date\":\"1999-12-01\",\"value\":\"3.4\"},{\"realtime_start\":\"2024-04-14\",\"realtime_end\":\"2024-04-14\",\"date\":\"2000-01-01\",\"value\":\"3.4\"},{\"realtime_start\":\"2024-04-14\",\"realtime_end\":\"2024-04-14\",\"date\":\"2000-02-01\",\"value\":\"3.4\"},{\"realtime_start\":\"2024-04-14\",\"realtime_end\":\"2024-04-14\",\"date\":\"2000-03-01\",\"value\":\"3.5\"},{\"realtime_start\":\"2024-04-14\",\"realtime_end\":\"2024-04-14\",\"date\":\"2000-04-01\",\"value\":\"3.5\"},{\"realtime_start\":\"2024-04-14\",\"realtime_end\":\"2024-04-14\",\"date\":\"2000-05-01\",\"value\":\"3.6\"},{\"realtime_start\":\"2024-04-14\",\"realtime_end\":\"2024-04-14\",\"date\":\"2000-06-01\",\"value\":\"3.7\"},{\"realtime_start\":\"2024-04-14\",\"realtime_end\":\"2024-04-14\",\"date\":\"2000-07-01\",\"value\":\"3.7\"},{\"realtime_start\":\"2024-04-14\",\"realtime_end\":\"2024-04-14\",\"date\":\"2000-08-01\",\"value\":\"3.7\"},{\"realtime_start\":\"2024-04-14\",\"realtime_end\":\"2024-04-14\",\"date\":\"2000-09-01\",\"value\":\"3.7\"},{\"realtime_start\":\"2024-04-14\",\"realtime_end\":\"2024-04-14\",\"date\":\"2000-10-01\",\"value\":\"3.7\"},{\"realtime_start\":\"2024-04-14\",\"realtime_end\":\"2024-04-14\",\"date\":\"2000-11-01\",\"value\":\"3.7\"},{\"realtime_start\":\"2024-04-14\",\"realtime_end\":\"2024-04-14\",\"date\":\"2000-12-01\",\"value\":\"3.7\"},{\"realtime_start\":\"2024-04-14\",\"realtime_end\":\"2024-04-14\",\"date\":\"2001-01-01\",\"value\":\"3.6\"},{\"realtime_start\":\"2024-04-14\",\"realtime_end\":\"2024-04-14\",\"date\":\"2001-02-01\",\"value\":\"3.6\"},{\"realtime_start\":\"2024-04-14\",\"realtime_end\":\"2024-04-14\",\"date\":\"2001-03-01\",\"value\":\"3.5\"},{\"realtime_start\":\"2024-04-14\",\"realtime_end\":\"2024-04-14\",\"date\":\"2001-04-01\",\"value\":\"3.400\"},{\"realtime_start\":\"2024-04-14\",\"realtime_end\":\"2024-04-14\",\"date\":\"2001-05-01\",\"value\":\"3.300\"},{\"realtime_start\":\"2024-04-14\",\"realtime_end\":\"2024-04-14\",\"date\":\"2001-06-01\",\"value\":\"3.300\"},{\"realtime_start\":\"2024-04-14\",\"realtime_end\":\"2024-04-14\",\"date\":\"2001-07-01\",\"value\":\"3.4\"},{\"realtime_start\":\"2024-04-14\",\"realtime_end\":\"2024-04-14\",\"date\":\"2001-08-01\",\"value\":\"3.5\"},{\"realtime_start\":\"2024-04-14\",\"realtime_end\":\"2024-04-14\",\"date\":\"2001-09-01\",\"value\":\"3.6\"},{\"realtime_start\":\"2024-04-14\",\"realtime_end\":\"2024-04-14\",\"date\":\"2001-10-01\",\"value\":\"3.8\"},{\"realtime_start\":\"2024-04-14\",\"realtime_end\":\"2024-04-14\",\"date\":\"2001-11-01\",\"value\":\"3.9\"},{\"realtime_start\":\"2024-04-14\",\"realtime_end\":\"2024-04-14\",\"date\":\"2001-12-01\",\"value\":\"4.0\"},{\"realtime_start\":\"2024-04-14\",\"realtime_end\":\"2024-04-14\",\"date\":\"2002-01-01\",\"value\":\"4.2\"},{\"realtime_start\":\"2024-04-14\",\"realtime_end\":\"2024-04-14\",\"date\":\"2002-02-01\",\"value\":\"4.3\"},{\"realtime_start\":\"2024-04-14\",\"realtime_end\":\"2024-04-14\",\"date\":\"2002-03-01\",\"value\":\"4.4\"},{\"realtime_start\":\"2024-04-14\",\"realtime_end\":\"2024-04-14\",\"date\":\"2002-04-01\",\"value\":\"4.4\"},{\"realtime_start\":\"2024-04-14\",\"realtime_end\":\"2024-04-14\",\"date\":\"2002-05-01\",\"value\":\"4.4\"},{\"realtime_start\":\"2024-04-14\",\"realtime_end\":\"2024-04-14\",\"date\":\"2002-06-01\",\"value\":\"4.3\"},{\"realtime_start\":\"2024-04-14\",\"realtime_end\":\"2024-04-14\",\"date\":\"2002-07-01\",\"value\":\"4.3\"},{\"realtime_start\":\"2024-04-14\",\"realtime_end\":\"2024-04-14\",\"date\":\"2002-08-01\",\"value\":\"4.2\"},{\"realtime_start\":\"2024-04-14\",\"realtime_end\":\"2024-04-14\",\"date\":\"2002-09-01\",\"value\":\"4.1\"},{\"realtime_start\":\"2024-04-14\",\"realtime_end\":\"2024-04-14\",\"date\":\"2002-10-01\",\"value\":\"4.1\"},{\"realtime_start\":\"2024-04-14\",\"realtime_end\":\"2024-04-14\",\"date\":\"2002-11-01\",\"value\":\"4.2\"},{\"realtime_start\":\"2024-04-14\",\"realtime_end\":\"2024-04-14\",\"date\":\"2002-12-01\",\"value\":\"4.3\"},{\"realtime_start\":\"2024-04-14\",\"realtime_end\":\"2024-04-14\",\"date\":\"2003-01-01\",\"value\":\"4.4\"},{\"realtime_start\":\"2024-04-14\",\"realtime_end\":\"2024-04-14\",\"date\":\"2003-02-01\",\"value\":\"4.5\"},{\"realtime_start\":\"2024-04-14\",\"realtime_end\":\"2024-04-14\",\"date\":\"2003-03-01\",\"value\":\"4.5\"},{\"realtime_start\":\"2024-04-14\",\"realtime_end\":\"2024-04-14\",\"date\":\"2003-04-01\",\"value\":\"4.6\"},{\"realtime_start\":\"2024-04-14\",\"realtime_end\":\"2024-04-14\",\"date\":\"2003-05-01\",\"value\":\"4.6\"},{\"realtime_start\":\"2024-04-14\",\"realtime_end\":\"2024-04-14\",\"date\":\"2003-06-01\",\"value\":\"4.6\"},{\"realtime_start\":\"2024-04-14\",\"realtime_end\":\"2024-04-14\",\"date\":\"2003-07-01\",\"value\":\"4.6\"},{\"realtime_start\":\"2024-04-14\",\"realtime_end\":\"2024-04-14\",\"date\":\"2003-08-01\",\"value\":\"4.5\"},{\"realtime_start\":\"2024-04-14\",\"realtime_end\":\"2024-04-14\",\"date\":\"2003-09-01\",\"value\":\"4.4\"},{\"realtime_start\":\"2024-04-14\",\"realtime_end\":\"2024-04-14\",\"date\":\"2003-10-01\",\"value\":\"4.4\"},{\"realtime_start\":\"2024-04-14\",\"realtime_end\":\"2024-04-14\",\"date\":\"2003-11-01\",\"value\":\"4.3\"},{\"realtime_start\":\"2024-04-14\",\"realtime_end\":\"2024-04-14\",\"date\":\"2003-12-01\",\"value\":\"4.2\"},{\"realtime_start\":\"2024-04-14\",\"realtime_end\":\"2024-04-14\",\"date\":\"2004-01-01\",\"value\":\"4.1\"},{\"realtime_start\":\"2024-04-14\",\"realtime_end\":\"2024-04-14\",\"date\":\"2004-02-01\",\"value\":\"4.1\"},{\"realtime_start\":\"2024-04-14\",\"realtime_end\":\"2024-04-14\",\"date\":\"2004-03-01\",\"value\":\"4.2\"},{\"realtime_start\":\"2024-04-14\",\"realtime_end\":\"2024-04-14\",\"date\":\"2004-04-01\",\"value\":\"4.2\"},{\"realtime_start\":\"2024-04-14\",\"realtime_end\":\"2024-04-14\",\"date\":\"2004-05-01\",\"value\":\"4.2\"},{\"realtime_start\":\"2024-04-14\",\"realtime_end\":\"2024-04-14\",\"date\":\"2004-06-01\",\"value\":\"4.3\"},{\"realtime_start\":\"2024-04-14\",\"realtime_end\":\"2024-04-14\",\"date\":\"2004-07-01\",\"value\":\"4.3\"},{\"realtime_start\":\"2024-04-14\",\"realtime_end\":\"2024-04-14\",\"date\":\"2004-08-01\",\"value\":\"4.4\"},{\"realtime_start\":\"2024-04-14\",\"realtime_end\":\"2024-04-14\",\"date\":\"2004-09-01\",\"value\":\"4.4\"},{\"realtime_start\":\"2024-04-14\",\"realtime_end\":\"2024-04-14\",\"date\":\"2004-10-01\",\"value\":\"4.4\"},{\"realtime_start\":\"2024-04-14\",\"realtime_end\":\"2024-04-14\",\"date\":\"2004-11-01\",\"value\":\"4.5\"},{\"realtime_start\":\"2024-04-14\",\"realtime_end\":\"2024-04-14\",\"date\":\"2004-12-01\",\"value\":\"4.5\"},{\"realtime_start\":\"2024-04-14\",\"realtime_end\":\"2024-04-14\",\"date\":\"2005-01-01\",\"value\":\"4.5\"},{\"realtime_start\":\"2024-04-14\",\"realtime_end\":\"2024-04-14\",\"date\":\"2005-02-01\",\"value\":\"4.5\"},{\"realtime_start\":\"2024-04-14\",\"realtime_end\":\"2024-04-14\",\"date\":\"2005-03-01\",\"value\":\"4.5\"},{\"realtime_start\":\"2024-04-14\",\"realtime_end\":\"2024-04-14\",\"date\":\"2005-04-01\",\"value\":\"4.5\"},{\"realtime_start\":\"2024-04-14\",\"realtime_end\":\"2024-04-14\",\"date\":\"2005-05-01\",\"value\":\"4.5\"},{\"realtime_start\":\"2024-04-14\",\"realtime_end\":\"2024-04-14\",\"date\":\"2005-06-01\",\"value\":\"4.5\"},{\"realtime_start\":\"2024-04-14\",\"realtime_end\":\"2024-04-14\",\"date\":\"2005-07-01\",\"value\":\"4.5\"},{\"realtime_start\":\"2024-04-14\",\"realtime_end\":\"2024-04-14\",\"date\":\"2005-08-01\",\"value\":\"4.6\"},{\"realtime_start\":\"2024-04-14\",\"realtime_end\":\"2024-04-14\",\"date\":\"2005-09-01\",\"value\":\"4.6\"},{\"realtime_start\":\"2024-04-14\",\"realtime_end\":\"2024-04-14\",\"date\":\"2005-10-01\",\"value\":\"4.5\"},{\"realtime_start\":\"2024-04-14\",\"realtime_end\":\"2024-04-14\",\"date\":\"2005-11-01\",\"value\":\"4.5\"},{\"realtime_start\":\"2024-04-14\",\"realtime_end\":\"2024-04-14\",\"date\":\"2005-12-01\",\"value\":\"4.4\"},{\"realtime_start\":\"2024-04-14\",\"realtime_end\":\"2024-04-14\",\"date\":\"2006-01-01\",\"value\":\"4.3\"},{\"realtime_start\":\"2024-04-14\",\"realtime_end\":\"2024-04-14\",\"date\":\"2006-02-01\",\"value\":\"4.1\"},{\"realtime_start\":\"2024-04-14\",\"realtime_end\":\"2024-04-14\",\"date\":\"2006-03-01\",\"value\":\"4.0\"},{\"realtime_start\":\"2024-04-14\",\"realtime_end\":\"2024-04-14\",\"date\":\"2006-04-01\",\"value\":\"4.0\"},{\"realtime_start\":\"2024-04-14\",\"realtime_end\":\"2024-04-14\",\"date\":\"2006-05-01\",\"value\":\"4.0\"},{\"realtime_start\":\"2024-04-14\",\"realtime_end\":\"2024-04-14\",\"date\":\"2006-06-01\",\"value\":\"4.0\"},{\"realtime_start\":\"2024-04-14\",\"realtime_end\":\"2024-04-14\",\"date\":\"2006-07-01\",\"value\":\"3.9\"},{\"realtime_start\":\"2024-04-14\",\"realtime_end\":\"2024-04-14\",\"date\":\"2006-08-01\",\"value\":\"3.9\"},{\"realtime_start\":\"2024-04-14\",\"realtime_end\":\"2024-04-14\",\"date\":\"2006-09-01\",\"value\":\"3.8\"},{\"realtime_start\":\"2024-04-14\",\"realtime_end\":\"2024-04-14\",\"date\":\"2006-10-01\",\"value\":\"3.7\"},{\"realtime_start\":\"2024-04-14\",\"realtime_end\":\"2024-04-14\",\"date\":\"2006-11-01\",\"value\":\"3.6\"},{\"realtime_start\":\"2024-04-14\",\"realtime_end\":\"2024-04-14\",\"date\":\"2006-12-01\",\"value\":\"3.6\"},{\"realtime_start\":\"2024-04-14\",\"realtime_end\":\"2024-04-14\",\"date\":\"2007-01-01\",\"value\":\"3.6\"},{\"realtime_start\":\"2024-04-14\",\"realtime_end\":\"2024-04-14\",\"date\":\"2007-02-01\",\"value\":\"3.6\"},{\"realtime_start\":\"2024-04-14\",\"realtime_end\":\"2024-04-14\",\"date\":\"2007-03-01\",\"value\":\"3.6\"},{\"realtime_start\":\"2024-04-14\",\"realtime_end\":\"2024-04-14\",\"date\":\"2007-04-01\",\"value\":\"3.6\"},{\"realtime_start\":\"2024-04-14\",\"realtime_end\":\"2024-04-14\",\"date\":\"2007-05-01\",\"value\":\"3.6\"},{\"realtime_start\":\"2024-04-14\",\"realtime_end\":\"2024-04-14\",\"date\":\"2007-06-01\",\"value\":\"3.5\"},{\"realtime_start\":\"2024-04-14\",\"realtime_end\":\"2024-04-14\",\"date\":\"2007-07-01\",\"value\":\"3.5\"},{\"realtime_start\":\"2024-04-14\",\"realtime_end\":\"2024-04-14\",\"date\":\"2007-08-01\",\"value\":\"3.5\"},{\"realtime_start\":\"2024-04-14\",\"realtime_end\":\"2024-04-14\",\"date\":\"2007-09-01\",\"value\":\"3.6\"},{\"realtime_start\":\"2024-04-14\",\"realtime_end\":\"2024-04-14\",\"date\":\"2007-10-01\",\"value\":\"3.7\"},{\"realtime_start\":\"2024-04-14\",\"realtime_end\":\"2024-04-14\",\"date\":\"2007-11-01\",\"value\":\"3.7\"},{\"realtime_start\":\"2024-04-14\",\"realtime_end\":\"2024-04-14\",\"date\":\"2007-12-01\",\"value\":\"3.8\"},{\"realtime_start\":\"2024-04-14\",\"realtime_end\":\"2024-04-14\",\"date\":\"2008-01-01\",\"value\":\"3.9\"},{\"realtime_start\":\"2024-04-14\",\"realtime_end\":\"2024-04-14\",\"date\":\"2008-02-01\",\"value\":\"4.0\"},{\"realtime_start\":\"2024-04-14\",\"realtime_end\":\"2024-04-14\",\"date\":\"2008-03-01\",\"value\":\"4.1\"},{\"realtime_start\":\"2024-04-14\",\"realtime_end\":\"2024-04-14\",\"date\":\"2008-04-01\",\"value\":\"4.2\"},{\"realtime_start\":\"2024-04-14\",\"realtime_end\":\"2024-04-14\",\"date\":\"2008-05-01\",\"value\":\"4.5\"},{\"realtime_start\":\"2024-04-14\",\"realtime_end\":\"2024-04-14\",\"date\":\"2008-06-01\",\"value\":\"4.7\"},{\"realtime_start\":\"2024-04-14\",\"realtime_end\":\"2024-04-14\",\"date\":\"2008-07-01\",\"value\":\"5.0\"},{\"realtime_start\":\"2024-04-14\",\"realtime_end\":\"2024-04-14\",\"date\":\"2008-08-01\",\"value\":\"5.3\"},{\"realtime_start\":\"2024-04-14\",\"realtime_end\":\"2024-04-14\",\"date\":\"2008-09-01\",\"value\":\"5.600\"},{\"realtime_start\":\"2024-04-14\",\"realtime_end\":\"2024-04-14\",\"date\":\"2008-10-01\",\"value\":\"6.000\"},{\"realtime_start\":\"2024-04-14\",\"realtime_end\":\"2024-04-14\",\"date\":\"2008-11-01\",\"value\":\"6.3\"},{\"realtime_start\":\"2024-04-14\",\"realtime_end\":\"2024-04-14\",\"date\":\"2008-12-01\",\"value\":\"6.800\"},{\"realtime_start\":\"2024-04-14\",\"realtime_end\":\"2024-04-14\",\"date\":\"2009-01-01\",\"value\":\"7.200\"},{\"realtime_start\":\"2024-04-14\",\"realtime_end\":\"2024-04-14\",\"date\":\"2009-02-01\",\"value\":\"7.600\"},{\"realtime_start\":\"2024-04-14\",\"realtime_end\":\"2024-04-14\",\"date\":\"2009-03-01\",\"value\":\"7.900\"},{\"realtime_start\":\"2024-04-14\",\"realtime_end\":\"2024-04-14\",\"date\":\"2009-04-01\",\"value\":\"8.2\"},{\"realtime_start\":\"2024-04-14\",\"realtime_end\":\"2024-04-14\",\"date\":\"2009-05-01\",\"value\":\"8.300\"},{\"realtime_start\":\"2024-04-14\",\"realtime_end\":\"2024-04-14\",\"date\":\"2009-06-01\",\"value\":\"8.400\"},{\"realtime_start\":\"2024-04-14\",\"realtime_end\":\"2024-04-14\",\"date\":\"2009-07-01\",\"value\":\"8.500\"},{\"realtime_start\":\"2024-04-14\",\"realtime_end\":\"2024-04-14\",\"date\":\"2009-08-01\",\"value\":\"8.6\"},{\"realtime_start\":\"2024-04-14\",\"realtime_end\":\"2024-04-14\",\"date\":\"2009-09-01\",\"value\":\"8.7\"},{\"realtime_start\":\"2024-04-14\",\"realtime_end\":\"2024-04-14\",\"date\":\"2009-10-01\",\"value\":\"8.8\"},{\"realtime_start\":\"2024-04-14\",\"realtime_end\":\"2024-04-14\",\"date\":\"2009-11-01\",\"value\":\"8.9\"},{\"realtime_start\":\"2024-04-14\",\"realtime_end\":\"2024-04-14\",\"date\":\"2009-12-01\",\"value\":\"9.0\"},{\"realtime_start\":\"2024-04-14\",\"realtime_end\":\"2024-04-14\",\"date\":\"2010-01-01\",\"value\":\"9.1\"},{\"realtime_start\":\"2024-04-14\",\"realtime_end\":\"2024-04-14\",\"date\":\"2010-02-01\",\"value\":\"9.0\"},{\"realtime_start\":\"2024-04-14\",\"realtime_end\":\"2024-04-14\",\"date\":\"2010-03-01\",\"value\":\"9.0\"},{\"realtime_start\":\"2024-04-14\",\"realtime_end\":\"2024-04-14\",\"date\":\"2010-04-01\",\"value\":\"8.8\"},{\"realtime_start\":\"2024-04-14\",\"realtime_end\":\"2024-04-14\",\"date\":\"2010-05-01\",\"value\":\"8.7\"},{\"realtime_start\":\"2024-04-14\",\"realtime_end\":\"2024-04-14\",\"date\":\"2010-06-01\",\"value\":\"8.6\"},{\"realtime_start\":\"2024-04-14\",\"realtime_end\":\"2024-04-14\",\"date\":\"2010-07-01\",\"value\":\"8.6\"},{\"realtime_start\":\"2024-04-14\",\"realtime_end\":\"2024-04-14\",\"date\":\"2010-08-01\",\"value\":\"8.5\"},{\"realtime_start\":\"2024-04-14\",\"realtime_end\":\"2024-04-14\",\"date\":\"2010-09-01\",\"value\":\"8.5\"},{\"realtime_start\":\"2024-04-14\",\"realtime_end\":\"2024-04-14\",\"date\":\"2010-10-01\",\"value\":\"8.5\"},{\"realtime_start\":\"2024-04-14\",\"realtime_end\":\"2024-04-14\",\"date\":\"2010-11-01\",\"value\":\"8.4\"},{\"realtime_start\":\"2024-04-14\",\"realtime_end\":\"2024-04-14\",\"date\":\"2010-12-01\",\"value\":\"8.2\"},{\"realtime_start\":\"2024-04-14\",\"realtime_end\":\"2024-04-14\",\"date\":\"2011-01-01\",\"value\":\"8.1\"},{\"realtime_start\":\"2024-04-14\",\"realtime_end\":\"2024-04-14\",\"date\":\"2011-02-01\",\"value\":\"7.9\"},{\"realtime_start\":\"2024-04-14\",\"realtime_end\":\"2024-04-14\",\"date\":\"2011-03-01\",\"value\":\"7.8\"},{\"realtime_start\":\"2024-04-14\",\"realtime_end\":\"2024-04-14\",\"date\":\"2011-04-01\",\"value\":\"7.7\"},{\"realtime_start\":\"2024-04-14\",\"realtime_end\":\"2024-04-14\",\"date\":\"2011-05-01\",\"value\":\"7.7\"},{\"realtime_start\":\"2024-04-14\",\"realtime_end\":\"2024-04-14\",\"date\":\"2011-06-01\",\"value\":\"7.7\"},{\"realtime_start\":\"2024-04-14\",\"realtime_end\":\"2024-04-14\",\"date\":\"2011-07-01\",\"value\":\"7.6\"},{\"realtime_start\":\"2024-04-14\",\"realtime_end\":\"2024-04-14\",\"date\":\"2011-08-01\",\"value\":\"7.6\"},{\"realtime_start\":\"2024-04-14\",\"realtime_end\":\"2024-04-14\",\"date\":\"2011-09-01\",\"value\":\"7.5\"},{\"realtime_start\":\"2024-04-14\",\"realtime_end\":\"2024-04-14\",\"date\":\"2011-10-01\",\"value\":\"7.4\"},{\"realtime_start\":\"2024-04-14\",\"realtime_end\":\"2024-04-14\",\"date\":\"2011-11-01\",\"value\":\"7.200\"},{\"realtime_start\":\"2024-04-14\",\"realtime_end\":\"2024-04-14\",\"date\":\"2011-12-01\",\"value\":\"7.1\"},{\"realtime_start\":\"2024-04-14\",\"realtime_end\":\"2024-04-14\",\"date\":\"2012-01-01\",\"value\":\"7.0\"},{\"realtime_start\":\"2024-04-14\",\"realtime_end\":\"2024-04-14\",\"date\":\"2012-02-01\",\"value\":\"7.0\"},{\"realtime_start\":\"2024-04-14\",\"realtime_end\":\"2024-04-14\",\"date\":\"2012-03-01\",\"value\":\"7.0\"},{\"realtime_start\":\"2024-04-14\",\"realtime_end\":\"2024-04-14\",\"date\":\"2012-04-01\",\"value\":\"7.0\"},{\"realtime_start\":\"2024-04-14\",\"realtime_end\":\"2024-04-14\",\"date\":\"2012-05-01\",\"value\":\"7.1\"},{\"realtime_start\":\"2024-04-14\",\"realtime_end\":\"2024-04-14\",\"date\":\"2012-06-01\",\"value\":\"7.1\"},{\"realtime_start\":\"2024-04-14\",\"realtime_end\":\"2024-04-14\",\"date\":\"2012-07-01\",\"value\":\"7.1\"},{\"realtime_start\":\"2024-04-14\",\"realtime_end\":\"2024-04-14\",\"date\":\"2012-08-01\",\"value\":\"7.1\"},{\"realtime_start\":\"2024-04-14\",\"realtime_end\":\"2024-04-14\",\"date\":\"2012-09-01\",\"value\":\"7.1\"},{\"realtime_start\":\"2024-04-14\",\"realtime_end\":\"2024-04-14\",\"date\":\"2012-10-01\",\"value\":\"7.1\"},{\"realtime_start\":\"2024-04-14\",\"realtime_end\":\"2024-04-14\",\"date\":\"2012-11-01\",\"value\":\"7.1\"},{\"realtime_start\":\"2024-04-14\",\"realtime_end\":\"2024-04-14\",\"date\":\"2012-12-01\",\"value\":\"7.1\"},{\"realtime_start\":\"2024-04-14\",\"realtime_end\":\"2024-04-14\",\"date\":\"2013-01-01\",\"value\":\"7.1\"},{\"realtime_start\":\"2024-04-14\",\"realtime_end\":\"2024-04-14\",\"date\":\"2013-02-01\",\"value\":\"7.0\"},{\"realtime_start\":\"2024-04-14\",\"realtime_end\":\"2024-04-14\",\"date\":\"2013-03-01\",\"value\":\"7.0\"},{\"realtime_start\":\"2024-04-14\",\"realtime_end\":\"2024-04-14\",\"date\":\"2013-04-01\",\"value\":\"6.9\"},{\"realtime_start\":\"2024-04-14\",\"realtime_end\":\"2024-04-14\",\"date\":\"2013-05-01\",\"value\":\"6.8\"},{\"realtime_start\":\"2024-04-14\",\"realtime_end\":\"2024-04-14\",\"date\":\"2013-06-01\",\"value\":\"6.7\"},{\"realtime_start\":\"2024-04-14\",\"realtime_end\":\"2024-04-14\",\"date\":\"2013-07-01\",\"value\":\"6.600\"},{\"realtime_start\":\"2024-04-14\",\"realtime_end\":\"2024-04-14\",\"date\":\"2013-08-01\",\"value\":\"6.500\"},{\"realtime_start\":\"2024-04-14\",\"realtime_end\":\"2024-04-14\",\"date\":\"2013-09-01\",\"value\":\"6.3\"},{\"realtime_start\":\"2024-04-14\",\"realtime_end\":\"2024-04-14\",\"date\":\"2013-10-01\",\"value\":\"6.2\"},{\"realtime_start\":\"2024-04-14\",\"realtime_end\":\"2024-04-14\",\"date\":\"2013-11-01\",\"value\":\"6.1\"},{\"realtime_start\":\"2024-04-14\",\"realtime_end\":\"2024-04-14\",\"date\":\"2013-12-01\",\"value\":\"6.1\"},{\"realtime_start\":\"2024-04-14\",\"realtime_end\":\"2024-04-14\",\"date\":\"2014-01-01\",\"value\":\"6.0\"},{\"realtime_start\":\"2024-04-14\",\"realtime_end\":\"2024-04-14\",\"date\":\"2014-02-01\",\"value\":\"6.0\"},{\"realtime_start\":\"2024-04-14\",\"realtime_end\":\"2024-04-14\",\"date\":\"2014-03-01\",\"value\":\"5.9\"},{\"realtime_start\":\"2024-04-14\",\"realtime_end\":\"2024-04-14\",\"date\":\"2014-04-01\",\"value\":\"5.8\"},{\"realtime_start\":\"2024-04-14\",\"realtime_end\":\"2024-04-14\",\"date\":\"2014-05-01\",\"value\":\"5.8\"},{\"realtime_start\":\"2024-04-14\",\"realtime_end\":\"2024-04-14\",\"date\":\"2014-06-01\",\"value\":\"5.7\"},{\"realtime_start\":\"2024-04-14\",\"realtime_end\":\"2024-04-14\",\"date\":\"2014-07-01\",\"value\":\"5.6\"},{\"realtime_start\":\"2024-04-14\",\"realtime_end\":\"2024-04-14\",\"date\":\"2014-08-01\",\"value\":\"5.5\"},{\"realtime_start\":\"2024-04-14\",\"realtime_end\":\"2024-04-14\",\"date\":\"2014-09-01\",\"value\":\"5.4\"},{\"realtime_start\":\"2024-04-14\",\"realtime_end\":\"2024-04-14\",\"date\":\"2014-10-01\",\"value\":\"5.3\"},{\"realtime_start\":\"2024-04-14\",\"realtime_end\":\"2024-04-14\",\"date\":\"2014-11-01\",\"value\":\"5.2\"},{\"realtime_start\":\"2024-04-14\",\"realtime_end\":\"2024-04-14\",\"date\":\"2014-12-01\",\"value\":\"5.1\"},{\"realtime_start\":\"2024-04-14\",\"realtime_end\":\"2024-04-14\",\"date\":\"2015-01-01\",\"value\":\"5.0\"},{\"realtime_start\":\"2024-04-14\",\"realtime_end\":\"2024-04-14\",\"date\":\"2015-02-01\",\"value\":\"4.9\"},{\"realtime_start\":\"2024-04-14\",\"realtime_end\":\"2024-04-14\",\"date\":\"2015-03-01\",\"value\":\"4.9\"},{\"realtime_start\":\"2024-04-14\",\"realtime_end\":\"2024-04-14\",\"date\":\"2015-04-01\",\"value\":\"4.9\"},{\"realtime_start\":\"2024-04-14\",\"realtime_end\":\"2024-04-14\",\"date\":\"2015-05-01\",\"value\":\"4.9\"},{\"realtime_start\":\"2024-04-14\",\"realtime_end\":\"2024-04-14\",\"date\":\"2015-06-01\",\"value\":\"4.8\"},{\"realtime_start\":\"2024-04-14\",\"realtime_end\":\"2024-04-14\",\"date\":\"2015-07-01\",\"value\":\"4.8\"},{\"realtime_start\":\"2024-04-14\",\"realtime_end\":\"2024-04-14\",\"date\":\"2015-08-01\",\"value\":\"4.7\"},{\"realtime_start\":\"2024-04-14\",\"realtime_end\":\"2024-04-14\",\"date\":\"2015-09-01\",\"value\":\"4.7\"},{\"realtime_start\":\"2024-04-14\",\"realtime_end\":\"2024-04-14\",\"date\":\"2015-10-01\",\"value\":\"4.7\"},{\"realtime_start\":\"2024-04-14\",\"realtime_end\":\"2024-04-14\",\"date\":\"2015-11-01\",\"value\":\"4.6\"},{\"realtime_start\":\"2024-04-14\",\"realtime_end\":\"2024-04-14\",\"date\":\"2015-12-01\",\"value\":\"4.6\"},{\"realtime_start\":\"2024-04-14\",\"realtime_end\":\"2024-04-14\",\"date\":\"2016-01-01\",\"value\":\"4.5\"},{\"realtime_start\":\"2024-04-14\",\"realtime_end\":\"2024-04-14\",\"date\":\"2016-02-01\",\"value\":\"4.5\"},{\"realtime_start\":\"2024-04-14\",\"realtime_end\":\"2024-04-14\",\"date\":\"2016-03-01\",\"value\":\"4.4\"},{\"realtime_start\":\"2024-04-14\",\"realtime_end\":\"2024-04-14\",\"date\":\"2016-04-01\",\"value\":\"4.4\"},{\"realtime_start\":\"2024-04-14\",\"realtime_end\":\"2024-04-14\",\"date\":\"2016-05-01\",\"value\":\"4.4\"},{\"realtime_start\":\"2024-04-14\",\"realtime_end\":\"2024-04-14\",\"date\":\"2016-06-01\",\"value\":\"4.5\"},{\"realtime_start\":\"2024-04-14\",\"realtime_end\":\"2024-04-14\",\"date\":\"2016-07-01\",\"value\":\"4.5\"},{\"realtime_start\":\"2024-04-14\",\"realtime_end\":\"2024-04-14\",\"date\":\"2016-08-01\",\"value\":\"4.5\"},{\"realtime_start\":\"2024-04-14\",\"realtime_end\":\"2024-04-14\",\"date\":\"2016-09-01\",\"value\":\"4.6\"},{\"realtime_start\":\"2024-04-14\",\"realtime_end\":\"2024-04-14\",\"date\":\"2016-10-01\",\"value\":\"4.6\"},{\"realtime_start\":\"2024-04-14\",\"realtime_end\":\"2024-04-14\",\"date\":\"2016-11-01\",\"value\":\"4.7\"},{\"realtime_start\":\"2024-04-14\",\"realtime_end\":\"2024-04-14\",\"date\":\"2016-12-01\",\"value\":\"4.7\"},{\"realtime_start\":\"2024-04-14\",\"realtime_end\":\"2024-04-14\",\"date\":\"2017-01-01\",\"value\":\"4.7\"},{\"realtime_start\":\"2024-04-14\",\"realtime_end\":\"2024-04-14\",\"date\":\"2017-02-01\",\"value\":\"4.6\"},{\"realtime_start\":\"2024-04-14\",\"realtime_end\":\"2024-04-14\",\"date\":\"2017-03-01\",\"value\":\"4.6\"},{\"realtime_start\":\"2024-04-14\",\"realtime_end\":\"2024-04-14\",\"date\":\"2017-04-01\",\"value\":\"4.6\"},{\"realtime_start\":\"2024-04-14\",\"realtime_end\":\"2024-04-14\",\"date\":\"2017-05-01\",\"value\":\"4.5\"},{\"realtime_start\":\"2024-04-14\",\"realtime_end\":\"2024-04-14\",\"date\":\"2017-06-01\",\"value\":\"4.5\"},{\"realtime_start\":\"2024-04-14\",\"realtime_end\":\"2024-04-14\",\"date\":\"2017-07-01\",\"value\":\"4.5\"},{\"realtime_start\":\"2024-04-14\",\"realtime_end\":\"2024-04-14\",\"date\":\"2017-08-01\",\"value\":\"4.4\"},{\"realtime_start\":\"2024-04-14\",\"realtime_end\":\"2024-04-14\",\"date\":\"2017-09-01\",\"value\":\"4.4\"},{\"realtime_start\":\"2024-04-14\",\"realtime_end\":\"2024-04-14\",\"date\":\"2017-10-01\",\"value\":\"4.3\"},{\"realtime_start\":\"2024-04-14\",\"realtime_end\":\"2024-04-14\",\"date\":\"2017-11-01\",\"value\":\"4.3\"},{\"realtime_start\":\"2024-04-14\",\"realtime_end\":\"2024-04-14\",\"date\":\"2017-12-01\",\"value\":\"4.2\"},{\"realtime_start\":\"2024-04-14\",\"realtime_end\":\"2024-04-14\",\"date\":\"2018-01-01\",\"value\":\"4.1\"},{\"realtime_start\":\"2024-04-14\",\"realtime_end\":\"2024-04-14\",\"date\":\"2018-02-01\",\"value\":\"4.0\"},{\"realtime_start\":\"2024-04-14\",\"realtime_end\":\"2024-04-14\",\"date\":\"2018-03-01\",\"value\":\"3.9\"},{\"realtime_start\":\"2024-04-14\",\"realtime_end\":\"2024-04-14\",\"date\":\"2018-04-01\",\"value\":\"3.8\"},{\"realtime_start\":\"2024-04-14\",\"realtime_end\":\"2024-04-14\",\"date\":\"2018-05-01\",\"value\":\"3.8\"},{\"realtime_start\":\"2024-04-14\",\"realtime_end\":\"2024-04-14\",\"date\":\"2018-06-01\",\"value\":\"3.7\"},{\"realtime_start\":\"2024-04-14\",\"realtime_end\":\"2024-04-14\",\"date\":\"2018-07-01\",\"value\":\"3.6\"},{\"realtime_start\":\"2024-04-14\",\"realtime_end\":\"2024-04-14\",\"date\":\"2018-08-01\",\"value\":\"3.6\"},{\"realtime_start\":\"2024-04-14\",\"realtime_end\":\"2024-04-14\",\"date\":\"2018-09-01\",\"value\":\"3.5\"},{\"realtime_start\":\"2024-04-14\",\"realtime_end\":\"2024-04-14\",\"date\":\"2018-10-01\",\"value\":\"3.5\"},{\"realtime_start\":\"2024-04-14\",\"realtime_end\":\"2024-04-14\",\"date\":\"2018-11-01\",\"value\":\"3.5\"},{\"realtime_start\":\"2024-04-14\",\"realtime_end\":\"2024-04-14\",\"date\":\"2018-12-01\",\"value\":\"3.5\"},{\"realtime_start\":\"2024-04-14\",\"realtime_end\":\"2024-04-14\",\"date\":\"2019-01-01\",\"value\":\"3.5\"},{\"realtime_start\":\"2024-04-14\",\"realtime_end\":\"2024-04-14\",\"date\":\"2019-02-01\",\"value\":\"3.5\"},{\"realtime_start\":\"2024-04-14\",\"realtime_end\":\"2024-04-14\",\"date\":\"2019-03-01\",\"value\":\"3.5\"},{\"realtime_start\":\"2024-04-14\",\"realtime_end\":\"2024-04-14\",\"date\":\"2019-04-01\",\"value\":\"3.5\"},{\"realtime_start\":\"2024-04-14\",\"realtime_end\":\"2024-04-14\",\"date\":\"2019-05-01\",\"value\":\"3.5\"},{\"realtime_start\":\"2024-04-14\",\"realtime_end\":\"2024-04-14\",\"date\":\"2019-06-01\",\"value\":\"3.5\"},{\"realtime_start\":\"2024-04-14\",\"realtime_end\":\"2024-04-14\",\"date\":\"2019-07-01\",\"value\":\"3.6\"},{\"realtime_start\":\"2024-04-14\",\"realtime_end\":\"2024-04-14\",\"date\":\"2019-08-01\",\"value\":\"3.6\"},{\"realtime_start\":\"2024-04-14\",\"realtime_end\":\"2024-04-14\",\"date\":\"2019-09-01\",\"value\":\"3.6\"},{\"realtime_start\":\"2024-04-14\",\"realtime_end\":\"2024-04-14\",\"date\":\"2019-10-01\",\"value\":\"3.6\"},{\"realtime_start\":\"2024-04-14\",\"realtime_end\":\"2024-04-14\",\"date\":\"2019-11-01\",\"value\":\"3.6\"},{\"realtime_start\":\"2024-04-14\",\"realtime_end\":\"2024-04-14\",\"date\":\"2019-12-01\",\"value\":\"3.6\"},{\"realtime_start\":\"2024-04-14\",\"realtime_end\":\"2024-04-14\",\"date\":\"2020-01-01\",\"value\":\"3.6\"},{\"realtime_start\":\"2024-04-14\",\"realtime_end\":\"2024-04-14\",\"date\":\"2020-02-01\",\"value\":\"3.6\"},{\"realtime_start\":\"2024-04-14\",\"realtime_end\":\"2024-04-14\",\"date\":\"2020-03-01\",\"value\":\"5.0\"},{\"realtime_start\":\"2024-04-14\",\"realtime_end\":\"2024-04-14\",\"date\":\"2020-04-01\",\"value\":\"13.1\"},{\"realtime_start\":\"2024-04-14\",\"realtime_end\":\"2024-04-14\",\"date\":\"2020-05-01\",\"value\":\"13.4\"},{\"realtime_start\":\"2024-04-14\",\"realtime_end\":\"2024-04-14\",\"date\":\"2020-06-01\",\"value\":\"12.7\"},{\"realtime_start\":\"2024-04-14\",\"realtime_end\":\"2024-04-14\",\"date\":\"2020-07-01\",\"value\":\"7.5\"},{\"realtime_start\":\"2024-04-14\",\"realtime_end\":\"2024-04-14\",\"date\":\"2020-08-01\",\"value\":\"7.3\"},{\"realtime_start\":\"2024-04-14\",\"realtime_end\":\"2024-04-14\",\"date\":\"2020-09-01\",\"value\":\"7.5\"},{\"realtime_start\":\"2024-04-14\",\"realtime_end\":\"2024-04-14\",\"date\":\"2020-10-01\",\"value\":\"5.1\"},{\"realtime_start\":\"2024-04-14\",\"realtime_end\":\"2024-04-14\",\"date\":\"2020-11-01\",\"value\":\"5.3\"},{\"realtime_start\":\"2024-04-14\",\"realtime_end\":\"2024-04-14\",\"date\":\"2020-12-01\",\"value\":\"5.6\"},{\"realtime_start\":\"2024-04-14\",\"realtime_end\":\"2024-04-14\",\"date\":\"2021-01-01\",\"value\":\"5.7\"},{\"realtime_start\":\"2024-04-14\",\"realtime_end\":\"2024-04-14\",\"date\":\"2021-02-01\",\"value\":\"5.8\"},{\"realtime_start\":\"2024-04-14\",\"realtime_end\":\"2024-04-14\",\"date\":\"2021-03-01\",\"value\":\"5.9\"},{\"realtime_start\":\"2024-04-14\",\"realtime_end\":\"2024-04-14\",\"date\":\"2021-04-01\",\"value\":\"5.9\"},{\"realtime_start\":\"2024-04-14\",\"realtime_end\":\"2024-04-14\",\"date\":\"2021-05-01\",\"value\":\"5.9\"},{\"realtime_start\":\"2024-04-14\",\"realtime_end\":\"2024-04-14\",\"date\":\"2021-06-01\",\"value\":\"5.8\"},{\"realtime_start\":\"2024-04-14\",\"realtime_end\":\"2024-04-14\",\"date\":\"2021-07-01\",\"value\":\"5.6\"},{\"realtime_start\":\"2024-04-14\",\"realtime_end\":\"2024-04-14\",\"date\":\"2021-08-01\",\"value\":\"5.4\"},{\"realtime_start\":\"2024-04-14\",\"realtime_end\":\"2024-04-14\",\"date\":\"2021-09-01\",\"value\":\"5.2\"},{\"realtime_start\":\"2024-04-14\",\"realtime_end\":\"2024-04-14\",\"date\":\"2021-10-01\",\"value\":\"5.0\"},{\"realtime_start\":\"2024-04-14\",\"realtime_end\":\"2024-04-14\",\"date\":\"2021-11-01\",\"value\":\"4.8\"},{\"realtime_start\":\"2024-04-14\",\"realtime_end\":\"2024-04-14\",\"date\":\"2021-12-01\",\"value\":\"4.7\"},{\"realtime_start\":\"2024-04-14\",\"realtime_end\":\"2024-04-14\",\"date\":\"2022-01-01\",\"value\":\"4.6\"},{\"realtime_start\":\"2024-04-14\",\"realtime_end\":\"2024-04-14\",\"date\":\"2022-02-01\",\"value\":\"4.4\"},{\"realtime_start\":\"2024-04-14\",\"realtime_end\":\"2024-04-14\",\"date\":\"2022-03-01\",\"value\":\"4.3\"},{\"realtime_start\":\"2024-04-14\",\"realtime_end\":\"2024-04-14\",\"date\":\"2022-04-01\",\"value\":\"4.2\"},{\"realtime_start\":\"2024-04-14\",\"realtime_end\":\"2024-04-14\",\"date\":\"2022-05-01\",\"value\":\"4.2\"},{\"realtime_start\":\"2024-04-14\",\"realtime_end\":\"2024-04-14\",\"date\":\"2022-06-01\",\"value\":\"4.2\"},{\"realtime_start\":\"2024-04-14\",\"realtime_end\":\"2024-04-14\",\"date\":\"2022-07-01\",\"value\":\"4.1\"},{\"realtime_start\":\"2024-04-14\",\"realtime_end\":\"2024-04-14\",\"date\":\"2022-08-01\",\"value\":\"4.1\"},{\"realtime_start\":\"2024-04-14\",\"realtime_end\":\"2024-04-14\",\"date\":\"2022-09-01\",\"value\":\"4.2\"},{\"realtime_start\":\"2024-04-14\",\"realtime_end\":\"2024-04-14\",\"date\":\"2022-10-01\",\"value\":\"4.2\"},{\"realtime_start\":\"2024-04-14\",\"realtime_end\":\"2024-04-14\",\"date\":\"2022-11-01\",\"value\":\"4.2\"},{\"realtime_start\":\"2024-04-14\",\"realtime_end\":\"2024-04-14\",\"date\":\"2022-12-01\",\"value\":\"4.1\"},{\"realtime_start\":\"2024-04-14\",\"realtime_end\":\"2024-04-14\",\"date\":\"2023-01-01\",\"value\":\"4.1\"},{\"realtime_start\":\"2024-04-14\",\"realtime_end\":\"2024-04-14\",\"date\":\"2023-02-01\",\"value\":\"4.0\"},{\"realtime_start\":\"2024-04-14\",\"realtime_end\":\"2024-04-14\",\"date\":\"2023-03-01\",\"value\":\"3.9\"},{\"realtime_start\":\"2024-04-14\",\"realtime_end\":\"2024-04-14\",\"date\":\"2023-04-01\",\"value\":\"3.8\"},{\"realtime_start\":\"2024-04-14\",\"realtime_end\":\"2024-04-14\",\"date\":\"2023-05-01\",\"value\":\"3.8\"},{\"realtime_start\":\"2024-04-14\",\"realtime_end\":\"2024-04-14\",\"date\":\"2023-06-01\",\"value\":\"3.9\"},{\"realtime_start\":\"2024-04-14\",\"realtime_end\":\"2024-04-14\",\"date\":\"2023-07-01\",\"value\":\"3.9\"},{\"realtime_start\":\"2024-04-14\",\"realtime_end\":\"2024-04-14\",\"date\":\"2023-08-01\",\"value\":\"4.0\"},{\"realtime_start\":\"2024-04-14\",\"realtime_end\":\"2024-04-14\",\"date\":\"2023-09-01\",\"value\":\"4.1\"},{\"realtime_start\":\"2024-04-14\",\"realtime_end\":\"2024-04-14\",\"date\":\"2023-10-01\",\"value\":\"4.1\"},{\"realtime_start\":\"2024-04-14\",\"realtime_end\":\"2024-04-14\",\"date\":\"2023-11-01\",\"value\":\"4.1\"},{\"realtime_start\":\"2024-04-14\",\"realtime_end\":\"2024-04-14\",\"date\":\"2023-12-01\",\"value\":\"4.1\"},{\"realtime_start\":\"2024-04-14\",\"realtime_end\":\"2024-04-14\",\"date\":\"2024-01-01\",\"value\":\"4.1\"},{\"realtime_start\":\"2024-04-14\",\"realtime_end\":\"2024-04-14\",\"date\":\"2024-02-01\",\"value\":\"4.0\"}]}'"
      ]
     },
     "execution_count": 17,
     "metadata": {},
     "output_type": "execute_result"
    }
   ],
   "source": [
    "response.content"
   ]
  },
  {
   "cell_type": "code",
   "execution_count": 23,
   "id": "1b6c4c4c-f8f7-426a-800c-e6ed5aa02e89",
   "metadata": {},
   "outputs": [
    {
     "data": {
      "text/plain": [
       "bytes"
      ]
     },
     "execution_count": 23,
     "metadata": {},
     "output_type": "execute_result"
    }
   ],
   "source": [
    "content = response.content"
   ]
  },
  {
   "cell_type": "code",
   "execution_count": 24,
   "id": "07ec7df8-3d3c-467e-9786-bd4cd785b95c",
   "metadata": {},
   "outputs": [
    {
     "data": {
      "text/plain": [
       "dict"
      ]
     },
     "execution_count": 24,
     "metadata": {},
     "output_type": "execute_result"
    }
   ],
   "source": [
    "response_dict = json.loads(content)\n",
    "type(response_dict)"
   ]
  },
  {
   "cell_type": "code",
   "execution_count": 20,
   "id": "7b59282e-995e-43d4-afc1-bf0553bcbd44",
   "metadata": {},
   "outputs": [],
   "source": [
    "unemp_df = pd.DataFrame(response_dict)"
   ]
  },
  {
   "cell_type": "code",
   "execution_count": 21,
   "id": "4d99337f-218f-41a1-802a-7cde373158a7",
   "metadata": {},
   "outputs": [
    {
     "data": {
      "text/html": [
       "<div>\n",
       "<style scoped>\n",
       "    .dataframe tbody tr th:only-of-type {\n",
       "        vertical-align: middle;\n",
       "    }\n",
       "\n",
       "    .dataframe tbody tr th {\n",
       "        vertical-align: top;\n",
       "    }\n",
       "\n",
       "    .dataframe thead th {\n",
       "        text-align: right;\n",
       "    }\n",
       "</style>\n",
       "<table border=\"1\" class=\"dataframe\">\n",
       "  <thead>\n",
       "    <tr style=\"text-align: right;\">\n",
       "      <th></th>\n",
       "      <th>realtime_start</th>\n",
       "      <th>realtime_end</th>\n",
       "      <th>observation_start</th>\n",
       "      <th>observation_end</th>\n",
       "      <th>units</th>\n",
       "      <th>output_type</th>\n",
       "      <th>file_type</th>\n",
       "      <th>order_by</th>\n",
       "      <th>sort_order</th>\n",
       "      <th>count</th>\n",
       "      <th>offset</th>\n",
       "      <th>limit</th>\n",
       "      <th>observations</th>\n",
       "    </tr>\n",
       "  </thead>\n",
       "  <tbody>\n",
       "    <tr>\n",
       "      <th>0</th>\n",
       "      <td>2024-04-14</td>\n",
       "      <td>2024-04-14</td>\n",
       "      <td>1600-01-01</td>\n",
       "      <td>9999-12-31</td>\n",
       "      <td>lin</td>\n",
       "      <td>1</td>\n",
       "      <td>json</td>\n",
       "      <td>observation_date</td>\n",
       "      <td>asc</td>\n",
       "      <td>578</td>\n",
       "      <td>0</td>\n",
       "      <td>100000</td>\n",
       "      <td>{'realtime_start': '2024-04-14', 'realtime_end...</td>\n",
       "    </tr>\n",
       "    <tr>\n",
       "      <th>1</th>\n",
       "      <td>2024-04-14</td>\n",
       "      <td>2024-04-14</td>\n",
       "      <td>1600-01-01</td>\n",
       "      <td>9999-12-31</td>\n",
       "      <td>lin</td>\n",
       "      <td>1</td>\n",
       "      <td>json</td>\n",
       "      <td>observation_date</td>\n",
       "      <td>asc</td>\n",
       "      <td>578</td>\n",
       "      <td>0</td>\n",
       "      <td>100000</td>\n",
       "      <td>{'realtime_start': '2024-04-14', 'realtime_end...</td>\n",
       "    </tr>\n",
       "    <tr>\n",
       "      <th>2</th>\n",
       "      <td>2024-04-14</td>\n",
       "      <td>2024-04-14</td>\n",
       "      <td>1600-01-01</td>\n",
       "      <td>9999-12-31</td>\n",
       "      <td>lin</td>\n",
       "      <td>1</td>\n",
       "      <td>json</td>\n",
       "      <td>observation_date</td>\n",
       "      <td>asc</td>\n",
       "      <td>578</td>\n",
       "      <td>0</td>\n",
       "      <td>100000</td>\n",
       "      <td>{'realtime_start': '2024-04-14', 'realtime_end...</td>\n",
       "    </tr>\n",
       "    <tr>\n",
       "      <th>3</th>\n",
       "      <td>2024-04-14</td>\n",
       "      <td>2024-04-14</td>\n",
       "      <td>1600-01-01</td>\n",
       "      <td>9999-12-31</td>\n",
       "      <td>lin</td>\n",
       "      <td>1</td>\n",
       "      <td>json</td>\n",
       "      <td>observation_date</td>\n",
       "      <td>asc</td>\n",
       "      <td>578</td>\n",
       "      <td>0</td>\n",
       "      <td>100000</td>\n",
       "      <td>{'realtime_start': '2024-04-14', 'realtime_end...</td>\n",
       "    </tr>\n",
       "    <tr>\n",
       "      <th>4</th>\n",
       "      <td>2024-04-14</td>\n",
       "      <td>2024-04-14</td>\n",
       "      <td>1600-01-01</td>\n",
       "      <td>9999-12-31</td>\n",
       "      <td>lin</td>\n",
       "      <td>1</td>\n",
       "      <td>json</td>\n",
       "      <td>observation_date</td>\n",
       "      <td>asc</td>\n",
       "      <td>578</td>\n",
       "      <td>0</td>\n",
       "      <td>100000</td>\n",
       "      <td>{'realtime_start': '2024-04-14', 'realtime_end...</td>\n",
       "    </tr>\n",
       "    <tr>\n",
       "      <th>...</th>\n",
       "      <td>...</td>\n",
       "      <td>...</td>\n",
       "      <td>...</td>\n",
       "      <td>...</td>\n",
       "      <td>...</td>\n",
       "      <td>...</td>\n",
       "      <td>...</td>\n",
       "      <td>...</td>\n",
       "      <td>...</td>\n",
       "      <td>...</td>\n",
       "      <td>...</td>\n",
       "      <td>...</td>\n",
       "      <td>...</td>\n",
       "    </tr>\n",
       "    <tr>\n",
       "      <th>573</th>\n",
       "      <td>2024-04-14</td>\n",
       "      <td>2024-04-14</td>\n",
       "      <td>1600-01-01</td>\n",
       "      <td>9999-12-31</td>\n",
       "      <td>lin</td>\n",
       "      <td>1</td>\n",
       "      <td>json</td>\n",
       "      <td>observation_date</td>\n",
       "      <td>asc</td>\n",
       "      <td>578</td>\n",
       "      <td>0</td>\n",
       "      <td>100000</td>\n",
       "      <td>{'realtime_start': '2024-04-14', 'realtime_end...</td>\n",
       "    </tr>\n",
       "    <tr>\n",
       "      <th>574</th>\n",
       "      <td>2024-04-14</td>\n",
       "      <td>2024-04-14</td>\n",
       "      <td>1600-01-01</td>\n",
       "      <td>9999-12-31</td>\n",
       "      <td>lin</td>\n",
       "      <td>1</td>\n",
       "      <td>json</td>\n",
       "      <td>observation_date</td>\n",
       "      <td>asc</td>\n",
       "      <td>578</td>\n",
       "      <td>0</td>\n",
       "      <td>100000</td>\n",
       "      <td>{'realtime_start': '2024-04-14', 'realtime_end...</td>\n",
       "    </tr>\n",
       "    <tr>\n",
       "      <th>575</th>\n",
       "      <td>2024-04-14</td>\n",
       "      <td>2024-04-14</td>\n",
       "      <td>1600-01-01</td>\n",
       "      <td>9999-12-31</td>\n",
       "      <td>lin</td>\n",
       "      <td>1</td>\n",
       "      <td>json</td>\n",
       "      <td>observation_date</td>\n",
       "      <td>asc</td>\n",
       "      <td>578</td>\n",
       "      <td>0</td>\n",
       "      <td>100000</td>\n",
       "      <td>{'realtime_start': '2024-04-14', 'realtime_end...</td>\n",
       "    </tr>\n",
       "    <tr>\n",
       "      <th>576</th>\n",
       "      <td>2024-04-14</td>\n",
       "      <td>2024-04-14</td>\n",
       "      <td>1600-01-01</td>\n",
       "      <td>9999-12-31</td>\n",
       "      <td>lin</td>\n",
       "      <td>1</td>\n",
       "      <td>json</td>\n",
       "      <td>observation_date</td>\n",
       "      <td>asc</td>\n",
       "      <td>578</td>\n",
       "      <td>0</td>\n",
       "      <td>100000</td>\n",
       "      <td>{'realtime_start': '2024-04-14', 'realtime_end...</td>\n",
       "    </tr>\n",
       "    <tr>\n",
       "      <th>577</th>\n",
       "      <td>2024-04-14</td>\n",
       "      <td>2024-04-14</td>\n",
       "      <td>1600-01-01</td>\n",
       "      <td>9999-12-31</td>\n",
       "      <td>lin</td>\n",
       "      <td>1</td>\n",
       "      <td>json</td>\n",
       "      <td>observation_date</td>\n",
       "      <td>asc</td>\n",
       "      <td>578</td>\n",
       "      <td>0</td>\n",
       "      <td>100000</td>\n",
       "      <td>{'realtime_start': '2024-04-14', 'realtime_end...</td>\n",
       "    </tr>\n",
       "  </tbody>\n",
       "</table>\n",
       "<p>578 rows × 13 columns</p>\n",
       "</div>"
      ],
      "text/plain": [
       "    realtime_start realtime_end observation_start observation_end units  \\\n",
       "0       2024-04-14   2024-04-14        1600-01-01      9999-12-31   lin   \n",
       "1       2024-04-14   2024-04-14        1600-01-01      9999-12-31   lin   \n",
       "2       2024-04-14   2024-04-14        1600-01-01      9999-12-31   lin   \n",
       "3       2024-04-14   2024-04-14        1600-01-01      9999-12-31   lin   \n",
       "4       2024-04-14   2024-04-14        1600-01-01      9999-12-31   lin   \n",
       "..             ...          ...               ...             ...   ...   \n",
       "573     2024-04-14   2024-04-14        1600-01-01      9999-12-31   lin   \n",
       "574     2024-04-14   2024-04-14        1600-01-01      9999-12-31   lin   \n",
       "575     2024-04-14   2024-04-14        1600-01-01      9999-12-31   lin   \n",
       "576     2024-04-14   2024-04-14        1600-01-01      9999-12-31   lin   \n",
       "577     2024-04-14   2024-04-14        1600-01-01      9999-12-31   lin   \n",
       "\n",
       "     output_type file_type          order_by sort_order  count  offset  \\\n",
       "0              1      json  observation_date        asc    578       0   \n",
       "1              1      json  observation_date        asc    578       0   \n",
       "2              1      json  observation_date        asc    578       0   \n",
       "3              1      json  observation_date        asc    578       0   \n",
       "4              1      json  observation_date        asc    578       0   \n",
       "..           ...       ...               ...        ...    ...     ...   \n",
       "573            1      json  observation_date        asc    578       0   \n",
       "574            1      json  observation_date        asc    578       0   \n",
       "575            1      json  observation_date        asc    578       0   \n",
       "576            1      json  observation_date        asc    578       0   \n",
       "577            1      json  observation_date        asc    578       0   \n",
       "\n",
       "      limit                                       observations  \n",
       "0    100000  {'realtime_start': '2024-04-14', 'realtime_end...  \n",
       "1    100000  {'realtime_start': '2024-04-14', 'realtime_end...  \n",
       "2    100000  {'realtime_start': '2024-04-14', 'realtime_end...  \n",
       "3    100000  {'realtime_start': '2024-04-14', 'realtime_end...  \n",
       "4    100000  {'realtime_start': '2024-04-14', 'realtime_end...  \n",
       "..      ...                                                ...  \n",
       "573  100000  {'realtime_start': '2024-04-14', 'realtime_end...  \n",
       "574  100000  {'realtime_start': '2024-04-14', 'realtime_end...  \n",
       "575  100000  {'realtime_start': '2024-04-14', 'realtime_end...  \n",
       "576  100000  {'realtime_start': '2024-04-14', 'realtime_end...  \n",
       "577  100000  {'realtime_start': '2024-04-14', 'realtime_end...  \n",
       "\n",
       "[578 rows x 13 columns]"
      ]
     },
     "execution_count": 21,
     "metadata": {},
     "output_type": "execute_result"
    }
   ],
   "source": [
    "unemp_df"
   ]
  },
  {
   "cell_type": "code",
   "execution_count": 53,
   "id": "bf976319-e08b-407e-a280-981d114f30a3",
   "metadata": {},
   "outputs": [],
   "source": [
    "def get_data(url):\n",
    "    response = requests.get(url)\n",
    "    if response.status_code == 200:\n",
    "        content = response.content\n",
    "        content_dict = json.loads(content)\n",
    "        data = pd.DataFrame(content_dict['observations'])\n",
    "    else:\n",
    "        print('well that didn\\'t work...try something else')\n",
    "    return data"
   ]
  },
  {
   "cell_type": "code",
   "execution_count": 54,
   "id": "6c597e72-2814-4c15-bc6b-dfcedc49480f",
   "metadata": {},
   "outputs": [],
   "source": [
    "labor_id = 'LBSSA10'"
   ]
  },
  {
   "cell_type": "code",
   "execution_count": 55,
   "id": "3baa3336-f7a7-4343-94a0-1280c1a2cd85",
   "metadata": {},
   "outputs": [],
   "source": [
    "participation_url =f'{base}series_id={labor_id}&api_key={mykey}&file_type=json'"
   ]
  },
  {
   "cell_type": "code",
   "execution_count": 56,
   "id": "f113f5c9-b0fc-4071-b648-46b3d9f07228",
   "metadata": {},
   "outputs": [
    {
     "data": {
      "text/plain": [
       "'https://api.stlouisfed.org/fred/series/observations?series_id=LBSSA10&api_key=5ffe1b83bb27dae2eb5ec54bd6add76a&file_type=json'"
      ]
     },
     "execution_count": 56,
     "metadata": {},
     "output_type": "execute_result"
    }
   ],
   "source": [
    "participation_url"
   ]
  },
  {
   "cell_type": "code",
   "execution_count": 57,
   "id": "bb701a8b-07da-4e33-9918-78f86bdb268f",
   "metadata": {},
   "outputs": [],
   "source": [
    "particip_data = get_data(participation_url)"
   ]
  },
  {
   "cell_type": "code",
   "execution_count": 58,
   "id": "b44f662a-bd1a-44a0-be82-94668243cbb8",
   "metadata": {},
   "outputs": [
    {
     "data": {
      "text/html": [
       "<div>\n",
       "<style scoped>\n",
       "    .dataframe tbody tr th:only-of-type {\n",
       "        vertical-align: middle;\n",
       "    }\n",
       "\n",
       "    .dataframe tbody tr th {\n",
       "        vertical-align: top;\n",
       "    }\n",
       "\n",
       "    .dataframe thead th {\n",
       "        text-align: right;\n",
       "    }\n",
       "</style>\n",
       "<table border=\"1\" class=\"dataframe\">\n",
       "  <thead>\n",
       "    <tr style=\"text-align: right;\">\n",
       "      <th></th>\n",
       "      <th>realtime_start</th>\n",
       "      <th>realtime_end</th>\n",
       "      <th>date</th>\n",
       "      <th>value</th>\n",
       "    </tr>\n",
       "  </thead>\n",
       "  <tbody>\n",
       "    <tr>\n",
       "      <th>0</th>\n",
       "      <td>2024-04-14</td>\n",
       "      <td>2024-04-14</td>\n",
       "      <td>1976-01-01</td>\n",
       "      <td>62.7</td>\n",
       "    </tr>\n",
       "    <tr>\n",
       "      <th>1</th>\n",
       "      <td>2024-04-14</td>\n",
       "      <td>2024-04-14</td>\n",
       "      <td>1976-02-01</td>\n",
       "      <td>62.5</td>\n",
       "    </tr>\n",
       "    <tr>\n",
       "      <th>2</th>\n",
       "      <td>2024-04-14</td>\n",
       "      <td>2024-04-14</td>\n",
       "      <td>1976-03-01</td>\n",
       "      <td>62.5</td>\n",
       "    </tr>\n",
       "    <tr>\n",
       "      <th>3</th>\n",
       "      <td>2024-04-14</td>\n",
       "      <td>2024-04-14</td>\n",
       "      <td>1976-04-01</td>\n",
       "      <td>62.4</td>\n",
       "    </tr>\n",
       "    <tr>\n",
       "      <th>4</th>\n",
       "      <td>2024-04-14</td>\n",
       "      <td>2024-04-14</td>\n",
       "      <td>1976-05-01</td>\n",
       "      <td>62.4</td>\n",
       "    </tr>\n",
       "    <tr>\n",
       "      <th>...</th>\n",
       "      <td>...</td>\n",
       "      <td>...</td>\n",
       "      <td>...</td>\n",
       "      <td>...</td>\n",
       "    </tr>\n",
       "    <tr>\n",
       "      <th>573</th>\n",
       "      <td>2024-04-14</td>\n",
       "      <td>2024-04-14</td>\n",
       "      <td>2023-10-01</td>\n",
       "      <td>61.0</td>\n",
       "    </tr>\n",
       "    <tr>\n",
       "      <th>574</th>\n",
       "      <td>2024-04-14</td>\n",
       "      <td>2024-04-14</td>\n",
       "      <td>2023-11-01</td>\n",
       "      <td>60.9</td>\n",
       "    </tr>\n",
       "    <tr>\n",
       "      <th>575</th>\n",
       "      <td>2024-04-14</td>\n",
       "      <td>2024-04-14</td>\n",
       "      <td>2023-12-01</td>\n",
       "      <td>60.8</td>\n",
       "    </tr>\n",
       "    <tr>\n",
       "      <th>576</th>\n",
       "      <td>2024-04-14</td>\n",
       "      <td>2024-04-14</td>\n",
       "      <td>2024-01-01</td>\n",
       "      <td>60.6</td>\n",
       "    </tr>\n",
       "    <tr>\n",
       "      <th>577</th>\n",
       "      <td>2024-04-14</td>\n",
       "      <td>2024-04-14</td>\n",
       "      <td>2024-02-01</td>\n",
       "      <td>60.5</td>\n",
       "    </tr>\n",
       "  </tbody>\n",
       "</table>\n",
       "<p>578 rows × 4 columns</p>\n",
       "</div>"
      ],
      "text/plain": [
       "    realtime_start realtime_end        date value\n",
       "0       2024-04-14   2024-04-14  1976-01-01  62.7\n",
       "1       2024-04-14   2024-04-14  1976-02-01  62.5\n",
       "2       2024-04-14   2024-04-14  1976-03-01  62.5\n",
       "3       2024-04-14   2024-04-14  1976-04-01  62.4\n",
       "4       2024-04-14   2024-04-14  1976-05-01  62.4\n",
       "..             ...          ...         ...   ...\n",
       "573     2024-04-14   2024-04-14  2023-10-01  61.0\n",
       "574     2024-04-14   2024-04-14  2023-11-01  60.9\n",
       "575     2024-04-14   2024-04-14  2023-12-01  60.8\n",
       "576     2024-04-14   2024-04-14  2024-01-01  60.6\n",
       "577     2024-04-14   2024-04-14  2024-02-01  60.5\n",
       "\n",
       "[578 rows x 4 columns]"
      ]
     },
     "execution_count": 58,
     "metadata": {},
     "output_type": "execute_result"
    }
   ],
   "source": [
    "particip_data"
   ]
  },
  {
   "cell_type": "code",
   "execution_count": 62,
   "id": "412abd0f-2df1-452a-a56a-0e41fe27e6af",
   "metadata": {},
   "outputs": [
    {
     "name": "stdout",
     "output_type": "stream",
     "text": [
      "Collecting fredapi\n",
      "  Downloading fredapi-0.5.1-py3-none-any.whl.metadata (5.0 kB)\n",
      "Requirement already satisfied: pandas in /Users/chris/Library/jupyterlab-desktop/jlab_server/lib/python3.12/site-packages (from fredapi) (2.2.1)\n",
      "Requirement already satisfied: numpy<2,>=1.26.0 in /Users/chris/Library/jupyterlab-desktop/jlab_server/lib/python3.12/site-packages (from pandas->fredapi) (1.26.4)\n",
      "Requirement already satisfied: python-dateutil>=2.8.2 in /Users/chris/Library/jupyterlab-desktop/jlab_server/lib/python3.12/site-packages (from pandas->fredapi) (2.9.0)\n",
      "Requirement already satisfied: pytz>=2020.1 in /Users/chris/Library/jupyterlab-desktop/jlab_server/lib/python3.12/site-packages (from pandas->fredapi) (2024.1)\n",
      "Requirement already satisfied: tzdata>=2022.7 in /Users/chris/Library/jupyterlab-desktop/jlab_server/lib/python3.12/site-packages (from pandas->fredapi) (2024.1)\n",
      "Requirement already satisfied: six>=1.5 in /Users/chris/Library/jupyterlab-desktop/jlab_server/lib/python3.12/site-packages (from python-dateutil>=2.8.2->pandas->fredapi) (1.16.0)\n",
      "Downloading fredapi-0.5.1-py3-none-any.whl (11 kB)\n",
      "Installing collected packages: fredapi\n",
      "Successfully installed fredapi-0.5.1\n",
      "Note: you may need to restart the kernel to use updated packages.\n"
     ]
    }
   ],
   "source": [
    "pip install fredapi"
   ]
  },
  {
   "cell_type": "code",
   "execution_count": 63,
   "id": "109516ec-c79a-4df5-b4ee-9adc9ff0500e",
   "metadata": {},
   "outputs": [],
   "source": [
    "from fredapi import Fred"
   ]
  },
  {
   "cell_type": "code",
   "execution_count": 64,
   "id": "28f30b31-c062-47d5-81a5-e13cc57fa8f6",
   "metadata": {},
   "outputs": [],
   "source": [
    "fred = Fred(api_key=mykey)"
   ]
  },
  {
   "cell_type": "code",
   "execution_count": 65,
   "id": "9025cb97-5f8e-4d9d-a8b5-a5a45d95d071",
   "metadata": {},
   "outputs": [],
   "source": [
    "easy_response = fred.get_series('DEUR')"
   ]
  },
  {
   "cell_type": "code",
   "execution_count": null,
   "id": "11090c88-9fde-474f-938d-2930ba623b52",
   "metadata": {},
   "outputs": [],
   "source": [
    "easy_respo"
   ]
  }
 ],
 "metadata": {
  "kernelspec": {
   "display_name": "Python 3 (ipykernel)",
   "language": "python",
   "name": "python3"
  },
  "language_info": {
   "codemirror_mode": {
    "name": "ipython",
    "version": 3
   },
   "file_extension": ".py",
   "mimetype": "text/x-python",
   "name": "python",
   "nbconvert_exporter": "python",
   "pygments_lexer": "ipython3",
   "version": "3.12.2"
  }
 },
 "nbformat": 4,
 "nbformat_minor": 5
}
