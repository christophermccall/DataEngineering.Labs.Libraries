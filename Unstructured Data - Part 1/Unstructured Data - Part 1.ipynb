{
 "cells": [
  {
   "cell_type": "markdown",
   "metadata": {},
   "source": [
    "## Intro to Unstructured Data\n",
    "\n",
    "Unstructured data is a fascinating domain, and one that is growing rapidly. Unstructured data is essentially enything that doesn't fit nicely into some sort of schema-on-write store. \n",
    "\n",
    "_\"Unstructured data is information that either does not have a pre-defined data model or is not organized in a pre-defined manner. Unstructured information is typically text-heavy, but may contain data such as dates, numbers, and facts as well.\"_\n",
    "   -- <a href=\"https://en.wikipedia.org/wiki/Unstructured_data\">__Wikipedia__</a>.\n",
    "\n",
    "Unstructured data can be used to understand human behaviour, recognize patterns in nature, interpret bodies of text, and much more. Some common examples include:\n",
    "\n",
    "- Pictures\n",
    "- Text\n",
    "- Audio Files\n",
    "- Various text file types\n",
    "- Emails\n",
    "- Location Data\n",
    "\n",
    "__The process for working with unstructured data is generally fairly similar across data types. At a high level you need to:__\n",
    "\n",
    "- Get data into a nicely machine readable format.\n",
    "\n",
    "\n",
    "- Extract information that can be indexed. This could mean:\n",
    "    - OCR'ing documents\n",
    "    - Transcribing audio\n",
    "    - Extracting coordinates from addresses\n",
    "    - Reading XML or other internal structure of a document\n",
    "    \n",
    "    \n",
    "- Choose some set of features to engineer for each data point. Such as:\n",
    "    - Extracting common words in a sample of text\n",
    "    - Creating features based on location categories (country, region, metro area, etc)\n",
    "    - Classifying pictures either by hand, or using machine learning of some variety\n",
    "    \n",
    "__For many applications, text analysis is quite important - so we'll start there__"
   ]
  },
  {
   "cell_type": "markdown",
   "metadata": {},
   "source": [
    "Note - nltk can be pip or pip3 installed, but you'll likely need to run 'nltk.download('punkt')' in order to get everything working correctly."
   ]
  },
  {
   "cell_type": "code",
   "execution_count": 2,
   "metadata": {},
   "outputs": [],
   "source": [
    "#import nltk, sklearn, pandas, numpy, matplotlib\n",
    "\n",
    "import nltk\n",
    "from nltk.tokenize.api import TokenizerI\n",
    "import pandas as pd\n",
    "%matplotlib inline\n",
    "from matplotlib import pyplot as plt"
   ]
  },
  {
   "cell_type": "code",
   "execution_count": 3,
   "metadata": {},
   "outputs": [
    {
     "data": {
      "text/html": [
       "<div>\n",
       "<style scoped>\n",
       "    .dataframe tbody tr th:only-of-type {\n",
       "        vertical-align: middle;\n",
       "    }\n",
       "\n",
       "    .dataframe tbody tr th {\n",
       "        vertical-align: top;\n",
       "    }\n",
       "\n",
       "    .dataframe thead th {\n",
       "        text-align: right;\n",
       "    }\n",
       "</style>\n",
       "<table border=\"1\" class=\"dataframe\">\n",
       "  <thead>\n",
       "    <tr style=\"text-align: right;\">\n",
       "      <th></th>\n",
       "      <th>Title</th>\n",
       "      <th>Price</th>\n",
       "      <th>Description</th>\n",
       "      <th>Rating</th>\n",
       "      <th>Link</th>\n",
       "      <th>Genre</th>\n",
       "    </tr>\n",
       "  </thead>\n",
       "  <tbody>\n",
       "    <tr>\n",
       "      <th>0</th>\n",
       "      <td>A Light in the Attic</td>\n",
       "      <td>Â£51.77</td>\n",
       "      <td>It's hard to imagine a world without A Light i...</td>\n",
       "      <td>Three</td>\n",
       "      <td>a-light-in-the-attic_1000/index.html</td>\n",
       "      <td>Poetry</td>\n",
       "    </tr>\n",
       "    <tr>\n",
       "      <th>1</th>\n",
       "      <td>Tipping the Velvet</td>\n",
       "      <td>Â£53.74</td>\n",
       "      <td>\"Erotic and absorbing...Written with starling ...</td>\n",
       "      <td>One</td>\n",
       "      <td>tipping-the-velvet_999/index.html</td>\n",
       "      <td>Historical Fiction</td>\n",
       "    </tr>\n",
       "    <tr>\n",
       "      <th>2</th>\n",
       "      <td>Soumission</td>\n",
       "      <td>Â£50.10</td>\n",
       "      <td>Dans une France assez proche de la nÃ´tre, un ...</td>\n",
       "      <td>One</td>\n",
       "      <td>soumission_998/index.html</td>\n",
       "      <td>Fiction</td>\n",
       "    </tr>\n",
       "    <tr>\n",
       "      <th>3</th>\n",
       "      <td>Sharp Objects</td>\n",
       "      <td>Â£47.82</td>\n",
       "      <td>WICKED above her hipbone, GIRL across her hear...</td>\n",
       "      <td>Four</td>\n",
       "      <td>sharp-objects_997/index.html</td>\n",
       "      <td>Mystery</td>\n",
       "    </tr>\n",
       "    <tr>\n",
       "      <th>4</th>\n",
       "      <td>Sapiens: A Brief History of Humankind</td>\n",
       "      <td>Â£54.23</td>\n",
       "      <td>From a renowned historian comes a groundbreaki...</td>\n",
       "      <td>Five</td>\n",
       "      <td>sapiens-a-brief-history-of-humankind_996/index...</td>\n",
       "      <td>History</td>\n",
       "    </tr>\n",
       "  </tbody>\n",
       "</table>\n",
       "</div>"
      ],
      "text/plain": [
       "                                   Title    Price  \\\n",
       "0                   A Light in the Attic  Â£51.77   \n",
       "1                     Tipping the Velvet  Â£53.74   \n",
       "2                             Soumission  Â£50.10   \n",
       "3                          Sharp Objects  Â£47.82   \n",
       "4  Sapiens: A Brief History of Humankind  Â£54.23   \n",
       "\n",
       "                                         Description Rating  \\\n",
       "0  It's hard to imagine a world without A Light i...  Three   \n",
       "1  \"Erotic and absorbing...Written with starling ...    One   \n",
       "2  Dans une France assez proche de la nÃ´tre, un ...    One   \n",
       "3  WICKED above her hipbone, GIRL across her hear...   Four   \n",
       "4  From a renowned historian comes a groundbreaki...   Five   \n",
       "\n",
       "                                                Link               Genre  \n",
       "0               a-light-in-the-attic_1000/index.html              Poetry  \n",
       "1                  tipping-the-velvet_999/index.html  Historical Fiction  \n",
       "2                          soumission_998/index.html             Fiction  \n",
       "3                       sharp-objects_997/index.html             Mystery  \n",
       "4  sapiens-a-brief-history-of-humankind_996/index...             History  "
      ]
     },
     "execution_count": 3,
     "metadata": {},
     "output_type": "execute_result"
    }
   ],
   "source": [
    "#read in the dataset you built from the scrape of the books website and display the top of the df\n",
    "\n",
    "data = pd.read_csv('scraped_books.csv', index_col=0)\n",
    "data.head()"
   ]
  },
  {
   "cell_type": "code",
   "execution_count": 4,
   "metadata": {},
   "outputs": [
    {
     "name": "stdout",
     "output_type": "stream",
     "text": [
      "<class 'pandas.core.frame.DataFrame'>\n",
      "Index: 1000 entries, 0 to 999\n",
      "Data columns (total 6 columns):\n",
      " #   Column       Non-Null Count  Dtype \n",
      "---  ------       --------------  ----- \n",
      " 0   Title        1000 non-null   object\n",
      " 1   Price        1000 non-null   object\n",
      " 2   Description  1000 non-null   object\n",
      " 3   Rating       1000 non-null   object\n",
      " 4   Link         1000 non-null   object\n",
      " 5   Genre        1000 non-null   object\n",
      "dtypes: object(6)\n",
      "memory usage: 54.7+ KB\n"
     ]
    }
   ],
   "source": [
    "#check if there are any nulls to deal with\n",
    "\n",
    "data.info()"
   ]
  },
  {
   "cell_type": "code",
   "execution_count": 5,
   "metadata": {},
   "outputs": [
    {
     "data": {
      "text/plain": [
       "Rating\n",
       "One      226\n",
       "Three    203\n",
       "Five     196\n",
       "Two      196\n",
       "Four     179\n",
       "Name: count, dtype: int64"
      ]
     },
     "execution_count": 5,
     "metadata": {},
     "output_type": "execute_result"
    }
   ],
   "source": [
    "#view counts of the ratings columns\n",
    "\n",
    "data.Rating.value_counts()"
   ]
  },
  {
   "cell_type": "code",
   "execution_count": 6,
   "metadata": {},
   "outputs": [
    {
     "data": {
      "image/png": "[encoded data removed]",
      "text/plain": [
       "<Figure size 640x480 with 1 Axes>"
      ]
     },
     "metadata": {},
     "output_type": "display_data"
    }
   ],
   "source": [
    "#pie chart the ratings to get a feel for distribution\n",
    "\n",
    "labels = data.Rating.value_counts().index\n",
    "sizes = data.Rating.value_counts().values\n",
    "\n",
    "fig1, ax1 = plt.subplots()\n",
    "ax1.pie(sizes, labels=labels, autopct='%1.1f%%',\n",
    "        shadow=True, startangle=90)\n",
    "ax1.axis('equal')\n",
    "\n",
    "plt.show()"
   ]
  },
  {
   "cell_type": "code",
   "execution_count": 6,
   "metadata": {
    "scrolled": true
   },
   "outputs": [
    {
     "data": {
      "text/plain": [
       "Default               152\n",
       "Nonfiction            110\n",
       "Sequential Art         75\n",
       "Add a comment          67\n",
       "Fiction                65\n",
       "Young Adult            54\n",
       "Fantasy                48\n",
       "Romance                35\n",
       "Mystery                32\n",
       "Food and Drink         30\n",
       "Childrens              29\n",
       "Historical Fiction     26\n",
       "Classics               19\n",
       "Poetry                 19\n",
       "History                18\n",
       "Womens Fiction         17\n",
       "Horror                 17\n",
       "Science Fiction        16\n",
       "Science                14\n",
       "Music                  13\n",
       "Business               12\n",
       "Travel                 11\n",
       "Philosophy             11\n",
       "Thriller               11\n",
       "Humor                  10\n",
       "Autobiography           9\n",
       "Art                     8\n",
       "Religion                7\n",
       "Psychology              7\n",
       "Spirituality            6\n",
       "Christian Fiction       6\n",
       "New Adult               6\n",
       "Sports and Games        5\n",
       "Biography               5\n",
       "Self Help               5\n",
       "Health                  4\n",
       "Christian               3\n",
       "Contemporary            3\n",
       "Politics                3\n",
       "Historical              2\n",
       "Short Stories           1\n",
       "Suspense                1\n",
       "Academic                1\n",
       "Paranormal              1\n",
       "Crime                   1\n",
       "Novels                  1\n",
       "Adult Fiction           1\n",
       "Parenting               1\n",
       "Cultural                1\n",
       "Erotica                 1\n",
       "Name: Genre, dtype: int64"
      ]
     },
     "execution_count": 6,
     "metadata": {},
     "output_type": "execute_result"
    }
   ],
   "source": [
    "#there are lots of genres, so just show the number of books in each genre\n",
    "\n",
    "data.Genre.value_counts()"
   ]
  },
  {
   "cell_type": "markdown",
   "metadata": {},
   "source": [
    "There are plenty of interesting questions to answer here. We'll start with keyword based engineering, and then get more complex. A few ideas that come to mind (we won't do all of them, but think about what you might do on your own with this data set):\n",
    "\n",
    "- Use descriptions to predict genre\n",
    "- Use price and genre to predict rating\n",
    "- Use title to predict genre\n",
    "\n",
    "We'll start by building some features that tell us the most common words in each description.\n",
    "\n",
    "Before we get started on our data set, let's get familiar with a new package, called nltk. NLTK stands for Natural Language Tool Kit, and it's often used for manual text analytics work. Docs are [here.](https://nltk.readthedocs.io/en/latest/)"
   ]
  },
  {
   "cell_type": "code",
   "execution_count": 7,
   "metadata": {},
   "outputs": [
    {
     "data": {
      "text/plain": [
       "['Hello',\n",
       " 'zipcoder',\n",
       " '.',\n",
       " 'I',\n",
       " 'hope',\n",
       " 'you',\n",
       " 'have',\n",
       " 'an',\n",
       " 'amazing',\n",
       " 'day',\n",
       " '!']"
      ]
     },
     "execution_count": 7,
     "metadata": {},
     "output_type": "execute_result"
    }
   ],
   "source": [
    "#here's a freebie word_tokenize() turns a string of text into a list of tokens.\n",
    "\n",
    "test = nltk.word_tokenize('Hello zipcoder. I hope you have an amazing day!')\n",
    "test"
   ]
  },
  {
   "cell_type": "markdown",
   "metadata": {},
   "source": [
    "Next, let's try tokenizing one of the book descriptions."
   ]
  },
  {
   "cell_type": "markdown",
   "metadata": {},
   "source": [
    "[This](https://www.pythonprogramming.in/find-frequency-of-each-word-from-a-text-file-using-nltk.html) link will help get you on the right track"
   ]
  },
  {
   "cell_type": "code",
   "execution_count": 8,
   "metadata": {},
   "outputs": [
    {
     "data": {
      "text/plain": [
       "\"It's hard to imagine a world without A Light in the Attic. This now-classic collection of poetry and drawings from Shel Silverstein celebrates its 20th anniversary with this special edition. Silverstein's humorous and creative verse can amuse the dowdiest of readers. Lemon-faced adults and fidgety kids sit still and read these rhythmic words and laugh and smile and love th It's hard to imagine a world without A Light in the Attic. This now-classic collection of poetry and drawings from Shel Silverstein celebrates its 20th anniversary with this special edition. Silverstein's humorous and creative verse can amuse the dowdiest of readers. Lemon-faced adults and fidgety kids sit still and read these rhythmic words and laugh and smile and love that Silverstein. Need proof of his genius? RockabyeRockabye baby, in the treetopDon't you know a treetopIs no safe place to rock?And who put you up there,And your cradle, too?Baby, I think someone down here'sGot it in for you. Shel, you never sounded so good. ...more\""
      ]
     },
     "execution_count": 8,
     "metadata": {},
     "output_type": "execute_result"
    }
   ],
   "source": [
    "#show the description of the first book in the dataframe\n",
    "\n",
    "data.Description[0]"
   ]
  },
  {
   "cell_type": "code",
   "execution_count": 9,
   "metadata": {},
   "outputs": [
    {
     "data": {
      "text/plain": [
       "['It',\n",
       " \"'s\",\n",
       " 'hard',\n",
       " 'to',\n",
       " 'imagine',\n",
       " 'a',\n",
       " 'world',\n",
       " 'without',\n",
       " 'A',\n",
       " 'Light',\n",
       " 'in',\n",
       " 'the',\n",
       " 'Attic',\n",
       " '.',\n",
       " 'This',\n",
       " 'now-classic',\n",
       " 'collection',\n",
       " 'of',\n",
       " 'poetry',\n",
       " 'and',\n",
       " 'drawings',\n",
       " 'from',\n",
       " 'Shel',\n",
       " 'Silverstein',\n",
       " 'celebrates',\n",
       " 'its',\n",
       " '20th',\n",
       " 'anniversary',\n",
       " 'with',\n",
       " 'this',\n",
       " 'special',\n",
       " 'edition',\n",
       " '.',\n",
       " 'Silverstein',\n",
       " \"'s\",\n",
       " 'humorous',\n",
       " 'and',\n",
       " 'creative',\n",
       " 'verse',\n",
       " 'can',\n",
       " 'amuse',\n",
       " 'the',\n",
       " 'dowdiest',\n",
       " 'of',\n",
       " 'readers',\n",
       " '.',\n",
       " 'Lemon-faced',\n",
       " 'adults',\n",
       " 'and',\n",
       " 'fidgety',\n",
       " 'kids',\n",
       " 'sit',\n",
       " 'still',\n",
       " 'and',\n",
       " 'read',\n",
       " 'these',\n",
       " 'rhythmic',\n",
       " 'words',\n",
       " 'and',\n",
       " 'laugh',\n",
       " 'and',\n",
       " 'smile',\n",
       " 'and',\n",
       " 'love',\n",
       " 'th',\n",
       " 'It',\n",
       " \"'s\",\n",
       " 'hard',\n",
       " 'to',\n",
       " 'imagine',\n",
       " 'a',\n",
       " 'world',\n",
       " 'without',\n",
       " 'A',\n",
       " 'Light',\n",
       " 'in',\n",
       " 'the',\n",
       " 'Attic',\n",
       " '.',\n",
       " 'This',\n",
       " 'now-classic',\n",
       " 'collection',\n",
       " 'of',\n",
       " 'poetry',\n",
       " 'and',\n",
       " 'drawings',\n",
       " 'from',\n",
       " 'Shel',\n",
       " 'Silverstein',\n",
       " 'celebrates',\n",
       " 'its',\n",
       " '20th',\n",
       " 'anniversary',\n",
       " 'with',\n",
       " 'this',\n",
       " 'special',\n",
       " 'edition',\n",
       " '.',\n",
       " 'Silverstein',\n",
       " \"'s\",\n",
       " 'humorous',\n",
       " 'and',\n",
       " 'creative',\n",
       " 'verse',\n",
       " 'can',\n",
       " 'amuse',\n",
       " 'the',\n",
       " 'dowdiest',\n",
       " 'of',\n",
       " 'readers',\n",
       " '.',\n",
       " 'Lemon-faced',\n",
       " 'adults',\n",
       " 'and',\n",
       " 'fidgety',\n",
       " 'kids',\n",
       " 'sit',\n",
       " 'still',\n",
       " 'and',\n",
       " 'read',\n",
       " 'these',\n",
       " 'rhythmic',\n",
       " 'words',\n",
       " 'and',\n",
       " 'laugh',\n",
       " 'and',\n",
       " 'smile',\n",
       " 'and',\n",
       " 'love',\n",
       " 'that',\n",
       " 'Silverstein',\n",
       " '.',\n",
       " 'Need',\n",
       " 'proof',\n",
       " 'of',\n",
       " 'his',\n",
       " 'genius',\n",
       " '?',\n",
       " 'RockabyeRockabye',\n",
       " 'baby',\n",
       " ',',\n",
       " 'in',\n",
       " 'the',\n",
       " 'treetopDo',\n",
       " \"n't\",\n",
       " 'you',\n",
       " 'know',\n",
       " 'a',\n",
       " 'treetopIs',\n",
       " 'no',\n",
       " 'safe',\n",
       " 'place',\n",
       " 'to',\n",
       " 'rock',\n",
       " '?',\n",
       " 'And',\n",
       " 'who',\n",
       " 'put',\n",
       " 'you',\n",
       " 'up',\n",
       " 'there',\n",
       " ',',\n",
       " 'And',\n",
       " 'your',\n",
       " 'cradle',\n",
       " ',',\n",
       " 'too',\n",
       " '?',\n",
       " 'Baby',\n",
       " ',',\n",
       " 'I',\n",
       " 'think',\n",
       " 'someone',\n",
       " 'down',\n",
       " \"here'sGot\",\n",
       " 'it',\n",
       " 'in',\n",
       " 'for',\n",
       " 'you',\n",
       " '.',\n",
       " 'Shel',\n",
       " ',',\n",
       " 'you',\n",
       " 'never',\n",
       " 'sounded',\n",
       " 'so',\n",
       " 'good',\n",
       " '.',\n",
       " '...',\n",
       " 'more']"
      ]
     },
     "execution_count": 9,
     "metadata": {},
     "output_type": "execute_result"
    }
   ],
   "source": [
    "#tokenize the description of the first book in the dataframe\n",
    "\n",
    "first = nltk.word_tokenize(data.Description[0])\n",
    "first"
   ]
  },
  {
   "cell_type": "code",
   "execution_count": 10,
   "metadata": {},
   "outputs": [
    {
     "data": {
      "text/plain": [
       "FreqDist({'and': 14, '.': 9, 'the': 5, 'of': 5, 'Silverstein': 5, ',': 5, \"'s\": 4, 'in': 4, 'you': 4, 'to': 3, ...})"
      ]
     },
     "execution_count": 10,
     "metadata": {},
     "output_type": "execute_result"
    }
   ],
   "source": [
    "#now let's figure out the frequency of each word\n",
    "\n",
    "frequency = nltk.FreqDist(first)\n",
    "frequency"
   ]
  },
  {
   "cell_type": "markdown",
   "metadata": {},
   "source": [
    "What are the 10 most common words?"
   ]
  },
  {
   "cell_type": "code",
   "execution_count": 11,
   "metadata": {},
   "outputs": [
    {
     "data": {
      "text/plain": [
       "[('and', 14),\n",
       " ('.', 9),\n",
       " ('the', 5),\n",
       " ('of', 5),\n",
       " ('Silverstein', 5),\n",
       " (',', 5),\n",
       " (\"'s\", 4),\n",
       " ('in', 4),\n",
       " ('you', 4),\n",
       " ('to', 3)]"
      ]
     },
     "execution_count": 11,
     "metadata": {},
     "output_type": "execute_result"
    }
   ],
   "source": [
    "#display the 10 most common words\n",
    "\n",
    "frequency.most_common(10)"
   ]
  },
  {
   "cell_type": "markdown",
   "metadata": {},
   "source": [
    "What do you notice about the most common words? They aren't particularly valuable in telling us what the book is about, because they're words that are common in all text. Words like \"the\", \"and\", \"of\", etc, are common in all of human language, so they won't be helpful to us. \n",
    "\n",
    "So, let's filter those sorts of words out. These words are called stopwords, and nltk has a library of them. You can also add your own custom stopwords you'd like to filter out, but for now let's the standard ones from nltk."
   ]
  },
  {
   "cell_type": "code",
   "execution_count": 12,
   "metadata": {},
   "outputs": [],
   "source": [
    "#import nltk's stopword corpus\n",
    "\n",
    "from nltk.corpus import stopwords"
   ]
  },
  {
   "cell_type": "code",
   "execution_count": 13,
   "metadata": {},
   "outputs": [],
   "source": [
    "#set the stopwords to only include english words\n",
    "\n",
    "stopwords = stopwords.words('english')"
   ]
  },
  {
   "cell_type": "code",
   "execution_count": 14,
   "metadata": {},
   "outputs": [
    {
     "data": {
      "image/png": "[encoded data removed]",
      "text/plain": [
       "<Figure size 432x288 with 1 Axes>"
      ]
     },
     "metadata": {
      "needs_background": "light"
     },
     "output_type": "display_data"
    }
   ],
   "source": [
    "#plot the top 10 words\n",
    "\n",
    "frequency.plot(10)\n",
    "plt.show()"
   ]
  },
  {
   "cell_type": "code",
   "execution_count": 15,
   "metadata": {},
   "outputs": [
    {
     "data": {
      "text/plain": [
       "[('It', 2),\n",
       " (\"'s\", 4),\n",
       " ('hard', 2),\n",
       " ('imagine', 2),\n",
       " ('world', 2),\n",
       " ('without', 2),\n",
       " ('A', 2),\n",
       " ('Light', 2),\n",
       " ('Attic', 2),\n",
       " ('.', 9),\n",
       " ('This', 2),\n",
       " ('now-classic', 2),\n",
       " ('collection', 2),\n",
       " ('poetry', 2),\n",
       " ('drawings', 2),\n",
       " ('Shel', 3),\n",
       " ('Silverstein', 5),\n",
       " ('celebrates', 2),\n",
       " ('20th', 2),\n",
       " ('anniversary', 2),\n",
       " ('special', 2),\n",
       " ('edition', 2),\n",
       " ('humorous', 2),\n",
       " ('creative', 2),\n",
       " ('verse', 2),\n",
       " ('amuse', 2),\n",
       " ('dowdiest', 2),\n",
       " ('readers', 2),\n",
       " ('Lemon-faced', 2),\n",
       " ('adults', 2),\n",
       " ('fidgety', 2),\n",
       " ('kids', 2),\n",
       " ('sit', 2),\n",
       " ('still', 2),\n",
       " ('read', 2),\n",
       " ('rhythmic', 2),\n",
       " ('words', 2),\n",
       " ('laugh', 2),\n",
       " ('smile', 2),\n",
       " ('love', 2),\n",
       " ('th', 1),\n",
       " ('Need', 1),\n",
       " ('proof', 1),\n",
       " ('genius', 1),\n",
       " ('?', 3),\n",
       " ('RockabyeRockabye', 1),\n",
       " ('baby', 1),\n",
       " (',', 5),\n",
       " ('treetopDo', 1),\n",
       " (\"n't\", 1),\n",
       " ('know', 1),\n",
       " ('treetopIs', 1),\n",
       " ('safe', 1),\n",
       " ('place', 1),\n",
       " ('rock', 1),\n",
       " ('And', 2),\n",
       " ('put', 1),\n",
       " ('cradle', 1),\n",
       " ('Baby', 1),\n",
       " ('I', 1),\n",
       " ('think', 1),\n",
       " ('someone', 1),\n",
       " (\"here'sGot\", 1),\n",
       " ('never', 1),\n",
       " ('sounded', 1),\n",
       " ('good', 1),\n",
       " ('...', 1)]"
      ]
     },
     "execution_count": 15,
     "metadata": {},
     "output_type": "execute_result"
    }
   ],
   "source": [
    "#remove stopwords from the FreqDist\n",
    "\n",
    "frequency = [(w, f) for (w, f) in frequency.items() if w not in stopwords]\n",
    "frequency"
   ]
  },
  {
   "cell_type": "code",
   "execution_count": 16,
   "metadata": {},
   "outputs": [],
   "source": [
    "#sort by frequency\n",
    "\n",
    "frequency.sort(key=lambda tup: tup[1], reverse=True)"
   ]
  },
  {
   "cell_type": "code",
   "execution_count": 17,
   "metadata": {},
   "outputs": [
    {
     "data": {
      "text/plain": [
       "[('.', 9),\n",
       " ('Silverstein', 5),\n",
       " (',', 5),\n",
       " (\"'s\", 4),\n",
       " ('Shel', 3),\n",
       " ('?', 3),\n",
       " ('It', 2),\n",
       " ('hard', 2),\n",
       " ('imagine', 2),\n",
       " ('world', 2)]"
      ]
     },
     "execution_count": 17,
     "metadata": {},
     "output_type": "execute_result"
    }
   ],
   "source": [
    "#show top 10 values in the list\n",
    "\n",
    "frequency[:10]"
   ]
  },
  {
   "cell_type": "markdown",
   "metadata": {},
   "source": [
    "If you did the above correctly, you should notice the most common tokens are bits of punctuation. In this context, we care much more about the words themselves, so let's refine our list of tokens to not include punctuation. The easiest way to do this is to throw out items that are only one character long."
   ]
  },
  {
   "cell_type": "code",
   "execution_count": 18,
   "metadata": {},
   "outputs": [],
   "source": [
    "#filter your list of tuples and keep only tokens longer than 1 character\n",
    "\n",
    "frequency = [(w, f) for (w, f) in frequency if len(w) > 1]"
   ]
  },
  {
   "cell_type": "code",
   "execution_count": 19,
   "metadata": {},
   "outputs": [
    {
     "data": {
      "text/plain": [
       "[('Silverstein', 5),\n",
       " (\"'s\", 4),\n",
       " ('Shel', 3),\n",
       " ('It', 2),\n",
       " ('hard', 2),\n",
       " ('imagine', 2),\n",
       " ('world', 2),\n",
       " ('without', 2),\n",
       " ('Light', 2),\n",
       " ('Attic', 2)]"
      ]
     },
     "execution_count": 19,
     "metadata": {},
     "output_type": "execute_result"
    }
   ],
   "source": [
    "#take a look at the top 10 words now\n",
    "\n",
    "frequency[:10]"
   ]
  },
  {
   "cell_type": "code",
   "execution_count": 20,
   "metadata": {},
   "outputs": [
    {
     "data": {
      "image/png": "[encoded data removed]",
      "text/plain": [
       "<Figure size 432x288 with 1 Axes>"
      ]
     },
     "metadata": {
      "needs_background": "light"
     },
     "output_type": "display_data"
    }
   ],
   "source": [
    "#bar chart the top 10 words and their respective frequencies\n",
    "\n",
    "frequency = frequency[:10]\n",
    "\n",
    "plt.bar(*zip(*frequency))\n",
    "plt.xticks(rotation=90)\n",
    "plt.show()"
   ]
  },
  {
   "cell_type": "markdown",
   "metadata": {},
   "source": [
    "This has been a very basic lab that demonstrates how to tokenize a chunk of text and whittle down the tokens to a meaningful corpus. In the real world, this kind of tokenizing is used for finding comments, posts, logs, emails, etc that contain your target words.\n",
    "\n",
    "In the next lab, we'll pick 10 books from a particular genre, combine all their descriptions, find the most common words, and then see if we can predict which other books fall into the same genre."
   ]
  }
 ],
 "metadata": {
  "kernelspec": {
   "display_name": "Python 3 (ipykernel)",
   "language": "python",
   "name": "python3"
  },
  "language_info": {
   "codemirror_mode": {
    "name": "ipython",
    "version": 3
   },
   "file_extension": ".py",
   "mimetype": "text/x-python",
   "name": "python",
   "nbconvert_exporter": "python",
   "pygments_lexer": "ipython3",
   "version": "3.12.2"
  }
 },
 "nbformat": 4,
 "nbformat_minor": 4
}
