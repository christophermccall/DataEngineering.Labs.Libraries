{
 "cells": [
  {
   "cell_type": "code",
   "execution_count": 2,
   "id": "ac69b4ae-e7a5-4733-99a4-f5af6f585aaf",
   "metadata": {},
   "outputs": [
    {
     "name": "stdout",
     "output_type": "stream",
     "text": [
      "Requirement already satisfied: pyspark in /Users/chris/Library/jupyterlab-desktop/jlab_server/lib/python3.12/site-packages (3.5.1)\n",
      "Requirement already satisfied: py4j==0.10.9.7 in /Users/chris/Library/jupyterlab-desktop/jlab_server/lib/python3.12/site-packages (from pyspark) (0.10.9.7)\n",
      "Note: you may need to restart the kernel to use updated packages.\n"
     ]
    }
   ],
   "source": [
    "pip install pyspark"
   ]
  },
  {
   "cell_type": "code",
   "execution_count": 3,
   "id": "a6f0849e-a24e-4a3a-b292-799ccc77e1ed",
   "metadata": {},
   "outputs": [],
   "source": [
    "import pyspark as spark"
   ]
  },
  {
   "cell_type": "raw",
   "id": "284d8071-b184-4f1a-8cdd-25b950aaa77a",
   "metadata": {},
   "source": [
    "housing_data = spark.read.csv('FileStore/tables/AB_NYC_2019.csv',inferShcema=True, header='true')"
   ]
  },
  {
   "cell_type": "code",
   "execution_count": null,
   "id": "4a4f49ee-b211-4343-b062-26748e502e9e",
   "metadata": {},
   "outputs": [],
   "source": []
  }
 ],
 "metadata": {
  "kernelspec": {
   "display_name": "Python 3 (ipykernel)",
   "language": "python",
   "name": "python3"
  },
  "language_info": {
   "codemirror_mode": {
    "name": "ipython",
    "version": 3
   },
   "file_extension": ".py",
   "mimetype": "text/x-python",
   "name": "python",
   "nbconvert_exporter": "python",
   "pygments_lexer": "ipython3",
   "version": "3.12.2"
  }
 },
 "nbformat": 4,
 "nbformat_minor": 5
}
