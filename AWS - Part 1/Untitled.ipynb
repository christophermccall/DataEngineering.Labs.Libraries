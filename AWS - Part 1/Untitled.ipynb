{
 "cells": [
  {
   "cell_type": "code",
   "execution_count": 1,
   "id": "4b81aa2a-cec3-4971-a13c-6a0f23fe20c4",
   "metadata": {},
   "outputs": [
    {
     "name": "stdout",
     "output_type": "stream",
     "text": [
      "Requirement already satisfied: boto3 in /Users/chris/Library/jupyterlab-desktop/jlab_server/lib/python3.12/site-packages (1.34.84)\n",
      "Requirement already satisfied: botocore<1.35.0,>=1.34.84 in /Users/chris/Library/jupyterlab-desktop/jlab_server/lib/python3.12/site-packages (from boto3) (1.34.84)\n",
      "Requirement already satisfied: jmespath<2.0.0,>=0.7.1 in /Users/chris/Library/jupyterlab-desktop/jlab_server/lib/python3.12/site-packages (from boto3) (1.0.1)\n",
      "Requirement already satisfied: s3transfer<0.11.0,>=0.10.0 in /Users/chris/Library/jupyterlab-desktop/jlab_server/lib/python3.12/site-packages (from boto3) (0.10.1)\n",
      "Requirement already satisfied: python-dateutil<3.0.0,>=2.1 in /Users/chris/Library/jupyterlab-desktop/jlab_server/lib/python3.12/site-packages (from botocore<1.35.0,>=1.34.84->boto3) (2.9.0)\n",
      "Requirement already satisfied: urllib3!=2.2.0,<3,>=1.25.4 in /Users/chris/Library/jupyterlab-desktop/jlab_server/lib/python3.12/site-packages (from botocore<1.35.0,>=1.34.84->boto3) (2.2.1)\n",
      "Requirement already satisfied: six>=1.5 in /Users/chris/Library/jupyterlab-desktop/jlab_server/lib/python3.12/site-packages (from python-dateutil<3.0.0,>=2.1->botocore<1.35.0,>=1.34.84->boto3) (1.16.0)\n",
      "Note: you may need to restart the kernel to use updated packages.\n"
     ]
    }
   ],
   "source": [
    "pip install boto3"
   ]
  },
  {
   "cell_type": "code",
   "execution_count": 2,
   "id": "7e8e203b-0a94-4b05-9a9c-05a2a4de7ab8",
   "metadata": {},
   "outputs": [],
   "source": [
    "import boto3\n",
    "import os"
   ]
  },
  {
   "cell_type": "code",
   "execution_count": 3,
   "id": "ac7aa075-50ea-499c-b87e-9b865f7b333c",
   "metadata": {},
   "outputs": [],
   "source": [
    "# os.environ['AWS_DEFAULT_REGION'] = 'us-east-1'"
   ]
  },
  {
   "cell_type": "code",
   "execution_count": 4,
   "id": "915f3c11-240a-42e1-9c49-549ff98bb1fc",
   "metadata": {},
   "outputs": [],
   "source": [
    "s3 = boto3.client('s3')"
   ]
  },
  {
   "cell_type": "code",
   "execution_count": 5,
   "id": "31963fd9-6067-4a4a-bac4-a233de6a55de",
   "metadata": {},
   "outputs": [
    {
     "data": {
      "text/plain": [
       "{'ResponseMetadata': {'RequestId': 'HTT4RDA71KSGYRP9',\n",
       "  'HostId': 'Uk6b/BXlH+ipc5itkWnBNL8cLxsji2VwxwYr0+ALlgWsePhD5wfc9koaYQOIK5T29l6JoYP3Lto=',\n",
       "  'HTTPStatusCode': 200,\n",
       "  'HTTPHeaders': {'x-amz-id-2': 'Uk6b/BXlH+ipc5itkWnBNL8cLxsji2VwxwYr0+ALlgWsePhD5wfc9koaYQOIK5T29l6JoYP3Lto=',\n",
       "   'x-amz-request-id': 'HTT4RDA71KSGYRP9',\n",
       "   'date': 'Mon, 15 Apr 2024 18:19:54 GMT',\n",
       "   'location': '/chrisamccallnewbucket',\n",
       "   'server': 'AmazonS3',\n",
       "   'content-length': '0'},\n",
       "  'RetryAttempts': 0},\n",
       " 'Location': '/chrisamccallnewbucket'}"
      ]
     },
     "execution_count": 5,
     "metadata": {},
     "output_type": "execute_result"
    }
   ],
   "source": [
    "s3.create_bucket(Bucket=\"chrisamccallnewbucket\")"
   ]
  },
  {
   "cell_type": "code",
   "execution_count": 6,
   "id": "27b9ced6-940e-4936-8b4a-1e3a5091cee9",
   "metadata": {},
   "outputs": [],
   "source": [
    "buckets = s3.list_buckets()"
   ]
  },
  {
   "cell_type": "code",
   "execution_count": 12,
   "id": "0388e167-afc2-48dc-85dc-2b685e06ed35",
   "metadata": {},
   "outputs": [
    {
     "name": "stdout",
     "output_type": "stream",
     "text": [
      "chrisamccallnewbucket\n",
      "the.best.zipcode.bucket.there.ever.was\n"
     ]
    }
   ],
   "source": [
    "for bucket in buckets['Buckets']:\n",
    "    print(bucket['Name'])"
   ]
  },
  {
   "cell_type": "code",
   "execution_count": 13,
   "id": "5694b9fb-65a0-42f5-b7d0-b9658b4bd5be",
   "metadata": {},
   "outputs": [],
   "source": [
    "s3.upload_file(Filename='hello world.rtf', Bucket='the.best.zipcode.bucket.there.ever.was',Key='hello world')"
   ]
  },
  {
   "cell_type": "code",
   "execution_count": 14,
   "id": "87f714d8-172a-4e91-a341-0417f9a1291c",
   "metadata": {},
   "outputs": [],
   "source": [
    "response = s3.list_objects(Bucket='the.best.zipcode.bucket.there.ever.was')"
   ]
  },
  {
   "cell_type": "raw",
   "id": "5e5f109d-c2a5-4f3b-a0bf-97d88f3d4a78",
   "metadata": {
    "scrolled": true
   },
   "source": [
    "response"
   ]
  },
  {
   "cell_type": "code",
   "execution_count": 21,
   "id": "4f093fe6-c3ad-4a69-9699-5f30729d6226",
   "metadata": {},
   "outputs": [
    {
     "data": {
      "text/plain": [
       "{'ResponseMetadata': {'RequestId': 'C3MDNSDE08QDAQD0',\n",
       "  'HostId': 'SyE4WvWECSldvtUAPZSIcduG2P/p92dYHroXoXTDxsxaGp4xc442+aOH2uf/RakzYG5La3ebXJY=',\n",
       "  'HTTPStatusCode': 204,\n",
       "  'HTTPHeaders': {'x-amz-id-2': 'SyE4WvWECSldvtUAPZSIcduG2P/p92dYHroXoXTDxsxaGp4xc442+aOH2uf/RakzYG5La3ebXJY=',\n",
       "   'x-amz-request-id': 'C3MDNSDE08QDAQD0',\n",
       "   'date': 'Mon, 15 Apr 2024 18:32:27 GMT',\n",
       "   'server': 'AmazonS3'},\n",
       "  'RetryAttempts': 0}}"
      ]
     },
     "execution_count": 21,
     "metadata": {},
     "output_type": "execute_result"
    }
   ],
   "source": [
    "delete = s3.delete_object(\n",
    "    Bucket='the.best.zipcode.bucket.there.ever.was',\n",
    "    Key='hello world'\n",
    ")\n",
    "delete"
   ]
  },
  {
   "cell_type": "code",
   "execution_count": 23,
   "id": "06e6cb9e-8b10-44b6-9317-b7338edb9a6e",
   "metadata": {},
   "outputs": [],
   "source": [
    "goodbye_bucket = s3.delete_bucket(Bucket='the.best.zipcode.bucket.there.ever.was')"
   ]
  },
  {
   "cell_type": "code",
   "execution_count": 24,
   "id": "d94a969e-feef-42bc-b2bb-d73df52e55c3",
   "metadata": {},
   "outputs": [
    {
     "data": {
      "text/plain": [
       "{'ResponseMetadata': {'RequestId': 'DH8JYH11BN5K8KWD',\n",
       "  'HostId': 'k+au7QSqQ4jRQK9Af5dumVASgHMNN4SsKtikWmdBXOC9YyLL4pBND+XUPtuNE05ZVzsoE4NFxzw=',\n",
       "  'HTTPStatusCode': 204,\n",
       "  'HTTPHeaders': {'x-amz-id-2': 'k+au7QSqQ4jRQK9Af5dumVASgHMNN4SsKtikWmdBXOC9YyLL4pBND+XUPtuNE05ZVzsoE4NFxzw=',\n",
       "   'x-amz-request-id': 'DH8JYH11BN5K8KWD',\n",
       "   'date': 'Mon, 15 Apr 2024 18:36:42 GMT',\n",
       "   'server': 'AmazonS3'},\n",
       "  'RetryAttempts': 0}}"
      ]
     },
     "execution_count": 24,
     "metadata": {},
     "output_type": "execute_result"
    }
   ],
   "source": [
    "goodbye_bucket"
   ]
  },
  {
   "cell_type": "code",
   "execution_count": null,
   "id": "b4bb7fc2-035c-45ee-a459-f34e41ee378d",
   "metadata": {},
   "outputs": [],
   "source": []
  }
 ],
 "metadata": {
  "kernelspec": {
   "display_name": "Python 3 (ipykernel)",
   "language": "python",
   "name": "python3"
  },
  "language_info": {
   "codemirror_mode": {
    "name": "ipython",
    "version": 3
   },
   "file_extension": ".py",
   "mimetype": "text/x-python",
   "name": "python",
   "nbconvert_exporter": "python",
   "pygments_lexer": "ipython3",
   "version": "3.12.2"
  }
 },
 "nbformat": 4,
 "nbformat_minor": 5
}
