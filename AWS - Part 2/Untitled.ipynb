{
 "cells": [
  {
   "cell_type": "raw",
   "id": "7949682d-e5c9-4a1d-b9cb-d9cca83123f7",
   "metadata": {},
   "source": [
    "import boto3"
   ]
  },
  {
   "cell_type": "raw",
   "id": "df1508f2-6bb4-443d-b479-c150b90b5a30",
   "metadata": {},
   "source": [
    "client = boto3.client('ec2')"
   ]
  },
  {
   "cell_type": "raw",
   "id": "5f20596d-ab68-43c8-bf0e-2b03724af02a",
   "metadata": {},
   "source": [
    "response = client.create_key_pair(KeyName='-ec2-key')"
   ]
  },
  {
   "cell_type": "raw",
   "id": "89b27ab5-3a55-44ff-b39a-c3e9adb0b1e6",
   "metadata": {},
   "source": [
    "response"
   ]
  },
  {
   "cell_type": "raw",
   "id": "6f6be99c-f55e-4ad9-8162-9f2ecc56580e",
   "metadata": {},
   "source": [
    "KeyMaterial = response['KeyMaterial']"
   ]
  },
  {
   "cell_type": "raw",
   "id": "0c461e7d-cf37-4dce-8740-cd3f0f856260",
   "metadata": {},
   "source": [
    "with open('this-ec2-key.pem','w') as key:\n",
    "    key.write(KeyMaterial)"
   ]
  },
  {
   "cell_type": "raw",
   "id": "686ae4c5-9df4-4407-8c98-c07596f3772a",
   "metadata": {},
   "source": [
    "!chmod 400 this-ec2-key.pem"
   ]
  },
  {
   "cell_type": "raw",
   "id": "c93018cb-a5c7-4121-b842-aaad23cf8621",
   "metadata": {},
   "source": [
    "resource = boto3.resource('ec2')"
   ]
  },
  {
   "cell_type": "raw",
   "id": "9f2f16f6-1966-4953-8be2-d9d119b9f89b",
   "metadata": {},
   "source": [
    "instance = resource.create_instances(\n",
    "    ImageId='ami-051f8a213df8bc089',\n",
    "    MinCount=1,\n",
    "    MaxCount=1,\n",
    "    InstanceType='t2.micro',\n",
    "    KeyName='this-ec2-key'\n",
    ")"
   ]
  },
  {
   "cell_type": "raw",
   "id": "d67ac55f-4752-4efa-ae92-836452160bb9",
   "metadata": {},
   "source": [
    "status = client.describe_instance_status()"
   ]
  },
  {
   "cell_type": "raw",
   "id": "28e96b2b-614c-470a-91c0-ae675c99d218",
   "metadata": {},
   "source": [
    "status"
   ]
  },
  {
   "cell_type": "raw",
   "id": "3cbbb7f4-d3e8-40fe-9c75-f01f93c9579a",
   "metadata": {},
   "source": []
  }
 ],
 "metadata": {
  "kernelspec": {
   "display_name": "Python 3 (ipykernel)",
   "language": "python",
   "name": "python3"
  },
  "language_info": {
   "codemirror_mode": {
    "name": "ipython",
    "version": 3
   },
   "file_extension": ".py",
   "mimetype": "text/x-python",
   "name": "python",
   "nbconvert_exporter": "python",
   "pygments_lexer": "ipython3",
   "version": "3.12.2"
  }
 },
 "nbformat": 4,
 "nbformat_minor": 5
}
